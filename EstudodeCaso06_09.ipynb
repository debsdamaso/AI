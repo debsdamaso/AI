{
  "nbformat": 4,
  "nbformat_minor": 0,
  "metadata": {
    "colab": {
      "provenance": [],
      "mount_file_id": "1BhaYGHLxSOUVSyzh3ACsnKSe5rsnmAq4",
      "authorship_tag": "ABX9TyOFmbJwTibvRih5APuNZmNh",
      "include_colab_link": true
    },
    "kernelspec": {
      "name": "python3",
      "display_name": "Python 3"
    },
    "language_info": {
      "name": "python"
    }
  },
  "cells": [
    {
      "cell_type": "markdown",
      "metadata": {
        "id": "view-in-github",
        "colab_type": "text"
      },
      "source": [
        "<a href=\"https://colab.research.google.com/github/debsdamaso/AI/blob/main/EstudodeCaso06_09.ipynb\" target=\"_parent\"><img src=\"https://colab.research.google.com/assets/colab-badge.svg\" alt=\"Open In Colab\"/></a>"
      ]
    },
    {
      "cell_type": "markdown",
      "source": [
        "O objetivo de negócio: um modelo preditivo capaz de estimar o preço final de casas residenciais em Ames, Iowa, com base em um conjunto de 79 variáveis explicativas. O texto sugere que o preço de venda de uma casa não é influenciado apenas pelo número de quartos ou características básicas como uma cerca branca, mas por uma ampla gama de fatores que descrevem praticamente todos os aspectos das residências.\n",
        "\n",
        "O desafio proposto: construir um modelo estatístico ou algorítmico que possa capturar a complexidade das relações entre essas 79 variáveis explicativas e o preço final das casas.\n",
        "\n",
        "Isso poderia ser útil para diversas finalidades, tais como:\n",
        "\n",
        "Mercado Imobiliário: Compreender melhor os fatores que afetam os preços das casas pode ajudar corretores imobiliários, construtores e investidores a tomar decisões mais informadas sobre precificação, investimento e estratégias de marketing.\n",
        "\n",
        "Compradores e Vendedores: Tanto compradores quanto vendedores podem se beneficiar de uma estimativa mais precisa do preço final de uma casa. Compradores podem fazer escolhas mais embasadas, e vendedores podem ajustar suas expectativas e estratégias de venda.\n",
        "\n",
        "Avaliação de Risco: Instituições financeiras e empresas de seguros podem usar esse tipo de modelo para avaliar riscos associados a empréstimos hipotecários, planejamento financeiro e gestão de portfólio.\n",
        "\n",
        "Desenvolvimento Urbano: Planejadores urbanos e governos locais podem usar esses modelos para entender melhor como diferentes variáveis afetam os preços das casas e, assim, tomar decisões mais informadas sobre zoneamento, desenvolvimento de infraestrutura e políticas habitacionais.\n",
        "\n",
        "Pesquisa de Mercado: Empresas que atuam no setor imobiliário podem usar esses modelos para obter insights sobre as preferências dos compradores e as características mais valorizadas em um imóvel.\n",
        "\n",
        "No geral, o objetivo é usar a análise de dados e técnicas de modelagem para compreender e quantificar o impacto das várias variáveis explicativas no preço das casas, permitindo uma melhor tomada de decisão e uma compreensão mais profunda do mercado imobiliário em Ames, Iowa."
      ],
      "metadata": {
        "id": "qZ1kE7V9N9N-"
      }
    },
    {
      "cell_type": "code",
      "execution_count": 53,
      "metadata": {
        "id": "IbAqoSzXLz-O"
      },
      "outputs": [],
      "source": [
        "import pandas as pd\n",
        "import matplotlib.pyplot as plt\n",
        "import seaborn as sns\n",
        "from sklearn.preprocessing import StandardScaler\n",
        "from sklearn.preprocessing import OneHotEncoder"
      ]
    },
    {
      "cell_type": "code",
      "source": [
        "df = pd.read_csv('/content/drive/MyDrive/Colab Notebooks/train.csv')"
      ],
      "metadata": {
        "id": "Okd2n46mMUsh"
      },
      "execution_count": 5,
      "outputs": []
    },
    {
      "cell_type": "code",
      "source": [
        "df.head()"
      ],
      "metadata": {
        "colab": {
          "base_uri": "https://localhost:8080/",
          "height": 256
        },
        "id": "dMy_TOE3OF6Q",
        "outputId": "0522b7ef-1177-4273-dc25-1b3c734025f2"
      },
      "execution_count": 6,
      "outputs": [
        {
          "output_type": "execute_result",
          "data": {
            "text/plain": [
              "   Id  MSSubClass MSZoning  LotFrontage  LotArea Street Alley LotShape  \\\n",
              "0   1          60       RL         65.0     8450   Pave   NaN      Reg   \n",
              "1   2          20       RL         80.0     9600   Pave   NaN      Reg   \n",
              "2   3          60       RL         68.0    11250   Pave   NaN      IR1   \n",
              "3   4          70       RL         60.0     9550   Pave   NaN      IR1   \n",
              "4   5          60       RL         84.0    14260   Pave   NaN      IR1   \n",
              "\n",
              "  LandContour Utilities  ... PoolArea PoolQC Fence MiscFeature MiscVal MoSold  \\\n",
              "0         Lvl    AllPub  ...        0    NaN   NaN         NaN       0      2   \n",
              "1         Lvl    AllPub  ...        0    NaN   NaN         NaN       0      5   \n",
              "2         Lvl    AllPub  ...        0    NaN   NaN         NaN       0      9   \n",
              "3         Lvl    AllPub  ...        0    NaN   NaN         NaN       0      2   \n",
              "4         Lvl    AllPub  ...        0    NaN   NaN         NaN       0     12   \n",
              "\n",
              "  YrSold  SaleType  SaleCondition  SalePrice  \n",
              "0   2008        WD         Normal     208500  \n",
              "1   2007        WD         Normal     181500  \n",
              "2   2008        WD         Normal     223500  \n",
              "3   2006        WD        Abnorml     140000  \n",
              "4   2008        WD         Normal     250000  \n",
              "\n",
              "[5 rows x 81 columns]"
            ],
            "text/html": [
              "\n",
              "  <div id=\"df-1f36f371-9199-474c-8c6b-14c12f1cdb58\" class=\"colab-df-container\">\n",
              "    <div>\n",
              "<style scoped>\n",
              "    .dataframe tbody tr th:only-of-type {\n",
              "        vertical-align: middle;\n",
              "    }\n",
              "\n",
              "    .dataframe tbody tr th {\n",
              "        vertical-align: top;\n",
              "    }\n",
              "\n",
              "    .dataframe thead th {\n",
              "        text-align: right;\n",
              "    }\n",
              "</style>\n",
              "<table border=\"1\" class=\"dataframe\">\n",
              "  <thead>\n",
              "    <tr style=\"text-align: right;\">\n",
              "      <th></th>\n",
              "      <th>Id</th>\n",
              "      <th>MSSubClass</th>\n",
              "      <th>MSZoning</th>\n",
              "      <th>LotFrontage</th>\n",
              "      <th>LotArea</th>\n",
              "      <th>Street</th>\n",
              "      <th>Alley</th>\n",
              "      <th>LotShape</th>\n",
              "      <th>LandContour</th>\n",
              "      <th>Utilities</th>\n",
              "      <th>...</th>\n",
              "      <th>PoolArea</th>\n",
              "      <th>PoolQC</th>\n",
              "      <th>Fence</th>\n",
              "      <th>MiscFeature</th>\n",
              "      <th>MiscVal</th>\n",
              "      <th>MoSold</th>\n",
              "      <th>YrSold</th>\n",
              "      <th>SaleType</th>\n",
              "      <th>SaleCondition</th>\n",
              "      <th>SalePrice</th>\n",
              "    </tr>\n",
              "  </thead>\n",
              "  <tbody>\n",
              "    <tr>\n",
              "      <th>0</th>\n",
              "      <td>1</td>\n",
              "      <td>60</td>\n",
              "      <td>RL</td>\n",
              "      <td>65.0</td>\n",
              "      <td>8450</td>\n",
              "      <td>Pave</td>\n",
              "      <td>NaN</td>\n",
              "      <td>Reg</td>\n",
              "      <td>Lvl</td>\n",
              "      <td>AllPub</td>\n",
              "      <td>...</td>\n",
              "      <td>0</td>\n",
              "      <td>NaN</td>\n",
              "      <td>NaN</td>\n",
              "      <td>NaN</td>\n",
              "      <td>0</td>\n",
              "      <td>2</td>\n",
              "      <td>2008</td>\n",
              "      <td>WD</td>\n",
              "      <td>Normal</td>\n",
              "      <td>208500</td>\n",
              "    </tr>\n",
              "    <tr>\n",
              "      <th>1</th>\n",
              "      <td>2</td>\n",
              "      <td>20</td>\n",
              "      <td>RL</td>\n",
              "      <td>80.0</td>\n",
              "      <td>9600</td>\n",
              "      <td>Pave</td>\n",
              "      <td>NaN</td>\n",
              "      <td>Reg</td>\n",
              "      <td>Lvl</td>\n",
              "      <td>AllPub</td>\n",
              "      <td>...</td>\n",
              "      <td>0</td>\n",
              "      <td>NaN</td>\n",
              "      <td>NaN</td>\n",
              "      <td>NaN</td>\n",
              "      <td>0</td>\n",
              "      <td>5</td>\n",
              "      <td>2007</td>\n",
              "      <td>WD</td>\n",
              "      <td>Normal</td>\n",
              "      <td>181500</td>\n",
              "    </tr>\n",
              "    <tr>\n",
              "      <th>2</th>\n",
              "      <td>3</td>\n",
              "      <td>60</td>\n",
              "      <td>RL</td>\n",
              "      <td>68.0</td>\n",
              "      <td>11250</td>\n",
              "      <td>Pave</td>\n",
              "      <td>NaN</td>\n",
              "      <td>IR1</td>\n",
              "      <td>Lvl</td>\n",
              "      <td>AllPub</td>\n",
              "      <td>...</td>\n",
              "      <td>0</td>\n",
              "      <td>NaN</td>\n",
              "      <td>NaN</td>\n",
              "      <td>NaN</td>\n",
              "      <td>0</td>\n",
              "      <td>9</td>\n",
              "      <td>2008</td>\n",
              "      <td>WD</td>\n",
              "      <td>Normal</td>\n",
              "      <td>223500</td>\n",
              "    </tr>\n",
              "    <tr>\n",
              "      <th>3</th>\n",
              "      <td>4</td>\n",
              "      <td>70</td>\n",
              "      <td>RL</td>\n",
              "      <td>60.0</td>\n",
              "      <td>9550</td>\n",
              "      <td>Pave</td>\n",
              "      <td>NaN</td>\n",
              "      <td>IR1</td>\n",
              "      <td>Lvl</td>\n",
              "      <td>AllPub</td>\n",
              "      <td>...</td>\n",
              "      <td>0</td>\n",
              "      <td>NaN</td>\n",
              "      <td>NaN</td>\n",
              "      <td>NaN</td>\n",
              "      <td>0</td>\n",
              "      <td>2</td>\n",
              "      <td>2006</td>\n",
              "      <td>WD</td>\n",
              "      <td>Abnorml</td>\n",
              "      <td>140000</td>\n",
              "    </tr>\n",
              "    <tr>\n",
              "      <th>4</th>\n",
              "      <td>5</td>\n",
              "      <td>60</td>\n",
              "      <td>RL</td>\n",
              "      <td>84.0</td>\n",
              "      <td>14260</td>\n",
              "      <td>Pave</td>\n",
              "      <td>NaN</td>\n",
              "      <td>IR1</td>\n",
              "      <td>Lvl</td>\n",
              "      <td>AllPub</td>\n",
              "      <td>...</td>\n",
              "      <td>0</td>\n",
              "      <td>NaN</td>\n",
              "      <td>NaN</td>\n",
              "      <td>NaN</td>\n",
              "      <td>0</td>\n",
              "      <td>12</td>\n",
              "      <td>2008</td>\n",
              "      <td>WD</td>\n",
              "      <td>Normal</td>\n",
              "      <td>250000</td>\n",
              "    </tr>\n",
              "  </tbody>\n",
              "</table>\n",
              "<p>5 rows × 81 columns</p>\n",
              "</div>\n",
              "    <div class=\"colab-df-buttons\">\n",
              "\n",
              "  <div class=\"colab-df-container\">\n",
              "    <button class=\"colab-df-convert\" onclick=\"convertToInteractive('df-1f36f371-9199-474c-8c6b-14c12f1cdb58')\"\n",
              "            title=\"Convert this dataframe to an interactive table.\"\n",
              "            style=\"display:none;\">\n",
              "\n",
              "  <svg xmlns=\"http://www.w3.org/2000/svg\" height=\"24px\" viewBox=\"0 -960 960 960\">\n",
              "    <path d=\"M120-120v-720h720v720H120Zm60-500h600v-160H180v160Zm220 220h160v-160H400v160Zm0 220h160v-160H400v160ZM180-400h160v-160H180v160Zm440 0h160v-160H620v160ZM180-180h160v-160H180v160Zm440 0h160v-160H620v160Z\"/>\n",
              "  </svg>\n",
              "    </button>\n",
              "\n",
              "  <style>\n",
              "    .colab-df-container {\n",
              "      display:flex;\n",
              "      gap: 12px;\n",
              "    }\n",
              "\n",
              "    .colab-df-convert {\n",
              "      background-color: #E8F0FE;\n",
              "      border: none;\n",
              "      border-radius: 50%;\n",
              "      cursor: pointer;\n",
              "      display: none;\n",
              "      fill: #1967D2;\n",
              "      height: 32px;\n",
              "      padding: 0 0 0 0;\n",
              "      width: 32px;\n",
              "    }\n",
              "\n",
              "    .colab-df-convert:hover {\n",
              "      background-color: #E2EBFA;\n",
              "      box-shadow: 0px 1px 2px rgba(60, 64, 67, 0.3), 0px 1px 3px 1px rgba(60, 64, 67, 0.15);\n",
              "      fill: #174EA6;\n",
              "    }\n",
              "\n",
              "    .colab-df-buttons div {\n",
              "      margin-bottom: 4px;\n",
              "    }\n",
              "\n",
              "    [theme=dark] .colab-df-convert {\n",
              "      background-color: #3B4455;\n",
              "      fill: #D2E3FC;\n",
              "    }\n",
              "\n",
              "    [theme=dark] .colab-df-convert:hover {\n",
              "      background-color: #434B5C;\n",
              "      box-shadow: 0px 1px 3px 1px rgba(0, 0, 0, 0.15);\n",
              "      filter: drop-shadow(0px 1px 2px rgba(0, 0, 0, 0.3));\n",
              "      fill: #FFFFFF;\n",
              "    }\n",
              "  </style>\n",
              "\n",
              "    <script>\n",
              "      const buttonEl =\n",
              "        document.querySelector('#df-1f36f371-9199-474c-8c6b-14c12f1cdb58 button.colab-df-convert');\n",
              "      buttonEl.style.display =\n",
              "        google.colab.kernel.accessAllowed ? 'block' : 'none';\n",
              "\n",
              "      async function convertToInteractive(key) {\n",
              "        const element = document.querySelector('#df-1f36f371-9199-474c-8c6b-14c12f1cdb58');\n",
              "        const dataTable =\n",
              "          await google.colab.kernel.invokeFunction('convertToInteractive',\n",
              "                                                    [key], {});\n",
              "        if (!dataTable) return;\n",
              "\n",
              "        const docLinkHtml = 'Like what you see? Visit the ' +\n",
              "          '<a target=\"_blank\" href=https://colab.research.google.com/notebooks/data_table.ipynb>data table notebook</a>'\n",
              "          + ' to learn more about interactive tables.';\n",
              "        element.innerHTML = '';\n",
              "        dataTable['output_type'] = 'display_data';\n",
              "        await google.colab.output.renderOutput(dataTable, element);\n",
              "        const docLink = document.createElement('div');\n",
              "        docLink.innerHTML = docLinkHtml;\n",
              "        element.appendChild(docLink);\n",
              "      }\n",
              "    </script>\n",
              "  </div>\n",
              "\n",
              "\n",
              "<div id=\"df-752919c3-6090-410f-bda5-69142a3e4697\">\n",
              "  <button class=\"colab-df-quickchart\" onclick=\"quickchart('df-752919c3-6090-410f-bda5-69142a3e4697')\"\n",
              "            title=\"Suggest charts.\"\n",
              "            style=\"display:none;\">\n",
              "\n",
              "<svg xmlns=\"http://www.w3.org/2000/svg\" height=\"24px\"viewBox=\"0 0 24 24\"\n",
              "     width=\"24px\">\n",
              "    <g>\n",
              "        <path d=\"M19 3H5c-1.1 0-2 .9-2 2v14c0 1.1.9 2 2 2h14c1.1 0 2-.9 2-2V5c0-1.1-.9-2-2-2zM9 17H7v-7h2v7zm4 0h-2V7h2v10zm4 0h-2v-4h2v4z\"/>\n",
              "    </g>\n",
              "</svg>\n",
              "  </button>\n",
              "\n",
              "<style>\n",
              "  .colab-df-quickchart {\n",
              "      --bg-color: #E8F0FE;\n",
              "      --fill-color: #1967D2;\n",
              "      --hover-bg-color: #E2EBFA;\n",
              "      --hover-fill-color: #174EA6;\n",
              "      --disabled-fill-color: #AAA;\n",
              "      --disabled-bg-color: #DDD;\n",
              "  }\n",
              "\n",
              "  [theme=dark] .colab-df-quickchart {\n",
              "      --bg-color: #3B4455;\n",
              "      --fill-color: #D2E3FC;\n",
              "      --hover-bg-color: #434B5C;\n",
              "      --hover-fill-color: #FFFFFF;\n",
              "      --disabled-bg-color: #3B4455;\n",
              "      --disabled-fill-color: #666;\n",
              "  }\n",
              "\n",
              "  .colab-df-quickchart {\n",
              "    background-color: var(--bg-color);\n",
              "    border: none;\n",
              "    border-radius: 50%;\n",
              "    cursor: pointer;\n",
              "    display: none;\n",
              "    fill: var(--fill-color);\n",
              "    height: 32px;\n",
              "    padding: 0;\n",
              "    width: 32px;\n",
              "  }\n",
              "\n",
              "  .colab-df-quickchart:hover {\n",
              "    background-color: var(--hover-bg-color);\n",
              "    box-shadow: 0 1px 2px rgba(60, 64, 67, 0.3), 0 1px 3px 1px rgba(60, 64, 67, 0.15);\n",
              "    fill: var(--button-hover-fill-color);\n",
              "  }\n",
              "\n",
              "  .colab-df-quickchart-complete:disabled,\n",
              "  .colab-df-quickchart-complete:disabled:hover {\n",
              "    background-color: var(--disabled-bg-color);\n",
              "    fill: var(--disabled-fill-color);\n",
              "    box-shadow: none;\n",
              "  }\n",
              "\n",
              "  .colab-df-spinner {\n",
              "    border: 2px solid var(--fill-color);\n",
              "    border-color: transparent;\n",
              "    border-bottom-color: var(--fill-color);\n",
              "    animation:\n",
              "      spin 1s steps(1) infinite;\n",
              "  }\n",
              "\n",
              "  @keyframes spin {\n",
              "    0% {\n",
              "      border-color: transparent;\n",
              "      border-bottom-color: var(--fill-color);\n",
              "      border-left-color: var(--fill-color);\n",
              "    }\n",
              "    20% {\n",
              "      border-color: transparent;\n",
              "      border-left-color: var(--fill-color);\n",
              "      border-top-color: var(--fill-color);\n",
              "    }\n",
              "    30% {\n",
              "      border-color: transparent;\n",
              "      border-left-color: var(--fill-color);\n",
              "      border-top-color: var(--fill-color);\n",
              "      border-right-color: var(--fill-color);\n",
              "    }\n",
              "    40% {\n",
              "      border-color: transparent;\n",
              "      border-right-color: var(--fill-color);\n",
              "      border-top-color: var(--fill-color);\n",
              "    }\n",
              "    60% {\n",
              "      border-color: transparent;\n",
              "      border-right-color: var(--fill-color);\n",
              "    }\n",
              "    80% {\n",
              "      border-color: transparent;\n",
              "      border-right-color: var(--fill-color);\n",
              "      border-bottom-color: var(--fill-color);\n",
              "    }\n",
              "    90% {\n",
              "      border-color: transparent;\n",
              "      border-bottom-color: var(--fill-color);\n",
              "    }\n",
              "  }\n",
              "</style>\n",
              "\n",
              "  <script>\n",
              "    async function quickchart(key) {\n",
              "      const quickchartButtonEl =\n",
              "        document.querySelector('#' + key + ' button');\n",
              "      quickchartButtonEl.disabled = true;  // To prevent multiple clicks.\n",
              "      quickchartButtonEl.classList.add('colab-df-spinner');\n",
              "      try {\n",
              "        const charts = await google.colab.kernel.invokeFunction(\n",
              "            'suggestCharts', [key], {});\n",
              "      } catch (error) {\n",
              "        console.error('Error during call to suggestCharts:', error);\n",
              "      }\n",
              "      quickchartButtonEl.classList.remove('colab-df-spinner');\n",
              "      quickchartButtonEl.classList.add('colab-df-quickchart-complete');\n",
              "    }\n",
              "    (() => {\n",
              "      let quickchartButtonEl =\n",
              "        document.querySelector('#df-752919c3-6090-410f-bda5-69142a3e4697 button');\n",
              "      quickchartButtonEl.style.display =\n",
              "        google.colab.kernel.accessAllowed ? 'block' : 'none';\n",
              "    })();\n",
              "  </script>\n",
              "</div>\n",
              "    </div>\n",
              "  </div>\n"
            ]
          },
          "metadata": {},
          "execution_count": 6
        }
      ]
    },
    {
      "cell_type": "markdown",
      "source": [
        "##Exercicio 1:\n",
        "\n",
        "Escolher uma coluna numérica, entender a descrição dela\n",
        "\n",
        "Calcular média, median"
      ],
      "metadata": {
        "id": "002VPiI_O1eH"
      }
    },
    {
      "cell_type": "code",
      "source": [
        "media_LotArea = df['LotArea'].mean()\n",
        "print(f'A média da coluna é: {media_LotArea}')\n",
        "median_LotArea = df['LotArea'].median()\n",
        "print(f'A mediana da coluna é: {median_LotArea}')"
      ],
      "metadata": {
        "colab": {
          "base_uri": "https://localhost:8080/"
        },
        "id": "DeNrVBc6Pf_K",
        "outputId": "4c10ada1-dc1d-402d-c564-806b4b9ca660"
      },
      "execution_count": 7,
      "outputs": [
        {
          "output_type": "stream",
          "name": "stdout",
          "text": [
            "A média da coluna é: 10516.828082191782\n",
            "A mediana da coluna é: 9478.5\n"
          ]
        }
      ]
    },
    {
      "cell_type": "markdown",
      "source": [
        "##Exercicio 2\n",
        "\n",
        "Escolher uma coluna categorica e entender a descrição dela\n",
        "\n",
        "Construir um histograma com o PANDAS\n"
      ],
      "metadata": {
        "id": "u6dVbkmEPRom"
      }
    },
    {
      "cell_type": "code",
      "source": [
        "df.describe(include=object)\n",
        "\n",
        "df['LotArea'].hist(bins=10)  # 'bins' define o número de barras no histograma, pode deixar () se quiser\n",
        "plt.ylabel('Tamanho da area')\n",
        "plt.title('Histograma da Coluna LotArea')\n",
        "plt.show()"
      ],
      "metadata": {
        "colab": {
          "base_uri": "https://localhost:8080/",
          "height": 452
        },
        "id": "vfrVnM04PeXD",
        "outputId": "61eae27a-38e8-409d-c4e2-1e374dc941ff"
      },
      "execution_count": 8,
      "outputs": [
        {
          "output_type": "display_data",
          "data": {
            "text/plain": [
              "<Figure size 640x480 with 1 Axes>"
            ],
            "image/png": "[encoded data removed]"
          },
          "metadata": {}
        }
      ]
    },
    {
      "cell_type": "code",
      "source": [
        "df['GarageType'].hist()"
      ],
      "metadata": {
        "id": "qEv3w0yeXGIj",
        "outputId": "518e8bac-8e94-46fe-ba05-ed1c16ceda46",
        "colab": {
          "base_uri": "https://localhost:8080/",
          "height": 447
        }
      },
      "execution_count": 9,
      "outputs": [
        {
          "output_type": "execute_result",
          "data": {
            "text/plain": [
              "<Axes: >"
            ]
          },
          "metadata": {},
          "execution_count": 9
        },
        {
          "output_type": "display_data",
          "data": {
            "text/plain": [
              "<Figure size 640x480 with 1 Axes>"
            ],
            "image/png": "[encoded data removed]"
          },
          "metadata": {}
        }
      ]
    },
    {
      "cell_type": "markdown",
      "source": [
        "## PERGUNTAS IMPORTANTES DO DATA UNDERSTANDING\n",
        "\n",
        "1. Existem dados nulos ou faltantes no Dataset, conjunto de dados?\n",
        "2. Quais os tipos de dados existem no Dataset?\n",
        "Exemplo Coluna ID -> Int, Coluna Street -> Object\n",
        "3. Existe alguma coluna que está com o tipo de dado errado?"
      ],
      "metadata": {
        "id": "JIVPyPcbPAsb"
      }
    },
    {
      "cell_type": "code",
      "source": [
        "# 1. Dados nulos\n",
        "# Quando você chama a função .isnull() em um DataFrame do Pandas,\n",
        "# ela retorna uma matriz booleana em que cada célula é True se o valor for nulo (NaN)\n",
        "# e False se o valor não for nulo.\n",
        "valores_nulos = df.isnull()\n",
        "print(valores_nulos)"
      ],
      "metadata": {
        "colab": {
          "base_uri": "https://localhost:8080/"
        },
        "id": "w2G0esjdQCSd",
        "outputId": "3a98d866-88bf-45c9-d90f-c0fc76e7ea1f"
      },
      "execution_count": 10,
      "outputs": [
        {
          "output_type": "stream",
          "name": "stdout",
          "text": [
            "         Id  MSSubClass  MSZoning  LotFrontage  LotArea  Street  Alley  \\\n",
            "0     False       False     False        False    False   False   True   \n",
            "1     False       False     False        False    False   False   True   \n",
            "2     False       False     False        False    False   False   True   \n",
            "3     False       False     False        False    False   False   True   \n",
            "4     False       False     False        False    False   False   True   \n",
            "...     ...         ...       ...          ...      ...     ...    ...   \n",
            "1455  False       False     False        False    False   False   True   \n",
            "1456  False       False     False        False    False   False   True   \n",
            "1457  False       False     False        False    False   False   True   \n",
            "1458  False       False     False        False    False   False   True   \n",
            "1459  False       False     False        False    False   False   True   \n",
            "\n",
            "      LotShape  LandContour  Utilities  ...  PoolArea  PoolQC  Fence  \\\n",
            "0        False        False      False  ...     False    True   True   \n",
            "1        False        False      False  ...     False    True   True   \n",
            "2        False        False      False  ...     False    True   True   \n",
            "3        False        False      False  ...     False    True   True   \n",
            "4        False        False      False  ...     False    True   True   \n",
            "...        ...          ...        ...  ...       ...     ...    ...   \n",
            "1455     False        False      False  ...     False    True   True   \n",
            "1456     False        False      False  ...     False    True  False   \n",
            "1457     False        False      False  ...     False    True  False   \n",
            "1458     False        False      False  ...     False    True   True   \n",
            "1459     False        False      False  ...     False    True   True   \n",
            "\n",
            "      MiscFeature  MiscVal  MoSold  YrSold  SaleType  SaleCondition  SalePrice  \n",
            "0            True    False   False   False     False          False      False  \n",
            "1            True    False   False   False     False          False      False  \n",
            "2            True    False   False   False     False          False      False  \n",
            "3            True    False   False   False     False          False      False  \n",
            "4            True    False   False   False     False          False      False  \n",
            "...           ...      ...     ...     ...       ...            ...        ...  \n",
            "1455         True    False   False   False     False          False      False  \n",
            "1456         True    False   False   False     False          False      False  \n",
            "1457        False    False   False   False     False          False      False  \n",
            "1458         True    False   False   False     False          False      False  \n",
            "1459         True    False   False   False     False          False      False  \n",
            "\n",
            "[1460 rows x 81 columns]\n"
          ]
        }
      ]
    },
    {
      "cell_type": "code",
      "source": [
        "# 2. Tipos de dados:\n",
        "tipos_de_dados = df.dtypes\n",
        "print(tipos_de_dados)"
      ],
      "metadata": {
        "colab": {
          "base_uri": "https://localhost:8080/"
        },
        "id": "NUJTRwXUS-Gu",
        "outputId": "694997da-a6a8-4e77-8f3e-f45ca09432c5"
      },
      "execution_count": 11,
      "outputs": [
        {
          "output_type": "stream",
          "name": "stdout",
          "text": [
            "Id                 int64\n",
            "MSSubClass         int64\n",
            "MSZoning          object\n",
            "LotFrontage      float64\n",
            "LotArea            int64\n",
            "                  ...   \n",
            "MoSold             int64\n",
            "YrSold             int64\n",
            "SaleType          object\n",
            "SaleCondition     object\n",
            "SalePrice          int64\n",
            "Length: 81, dtype: object\n"
          ]
        }
      ]
    },
    {
      "cell_type": "code",
      "source": [
        "# 3. Existem dados errados?\n",
        "\n",
        "# Resposta: apenas o ID, no qual não faz sentido ser int, mas seria string ou object"
      ],
      "metadata": {
        "id": "jsga815gTZt1"
      },
      "execution_count": 12,
      "outputs": []
    },
    {
      "cell_type": "markdown",
      "source": [
        "PERGUNTAS IMPORTANTES DO DATA UNDERSTANDING\n",
        "\n",
        "4. Quais os tipos únicos de vendas que existem?\n",
        "5. Quais os tipo únicos de condições de venda?\n",
        "6. Qual o tipo de condição de venda que tem maior valor de venda das casas?"
      ],
      "metadata": {
        "id": "ShrgVwarWHG8"
      }
    },
    {
      "cell_type": "code",
      "source": [
        "# 4. Tipos unicos de vendas\n",
        "valores_unicos = df['SaleType'].unique()\n",
        "print(\"Os valores unicos são:\")\n",
        "print(valores_unicos)\n",
        "\n",
        "# contagem\n",
        "contagem_tipos_de_venda = df['SaleType'].value_counts()\n",
        "print(\"\\nA contagem  dos valores é:\")\n",
        "print(contagem_tipos_de_venda)"
      ],
      "metadata": {
        "colab": {
          "base_uri": "https://localhost:8080/"
        },
        "id": "TqQBEV8UXLmB",
        "outputId": "cc7119a1-c9fc-413e-e7b6-d69679688031"
      },
      "execution_count": 13,
      "outputs": [
        {
          "output_type": "stream",
          "name": "stdout",
          "text": [
            "Os valores unicos são:\n",
            "['WD' 'New' 'COD' 'ConLD' 'ConLI' 'CWD' 'ConLw' 'Con' 'Oth']\n",
            "\n",
            "A contagem  dos valores é:\n",
            "WD       1267\n",
            "New       122\n",
            "COD        43\n",
            "ConLD       9\n",
            "ConLI       5\n",
            "ConLw       5\n",
            "CWD         4\n",
            "Oth         3\n",
            "Con         2\n",
            "Name: SaleType, dtype: int64\n"
          ]
        }
      ]
    },
    {
      "cell_type": "code",
      "source": [
        "# 5. Tipos unicos de condições de vendas\n",
        "condicoes_vendas = df['SaleCondition'].unique()\n",
        "print(\"As condições únicas são:\")\n",
        "print(condicoes_vendas)\n",
        "\n",
        "# contagem\n",
        "contagem_condicoes = df['SaleCondition'].value_counts()\n",
        "print(\"\\nA contagem  dos valores é:\")\n",
        "print(contagem_condicoes)\n",
        "\n",
        "# 6. Agrupar por tipo de condição de venda e calcular a média dos valores de venda\n",
        "media_valores_venda_por_condicao = df.groupby('SaleCondition')['SalePrice'].mean()\n",
        "\n",
        "# 6. Criar gráfico de barras\n",
        "plt.figure(figsize=(8, 4))\n",
        "sns.barplot(x=media_valores_venda_por_condicao.index, y=media_valores_venda_por_condicao)\n",
        "plt.xticks(rotation=45)\n",
        "plt.xlabel('Tipo de Condição de Venda')\n",
        "plt.ylabel('Média de Valor de Venda')\n",
        "plt.title('Média de Valor de Venda por Tipo de Condição de Venda')\n",
        "plt.show()\n"
      ],
      "metadata": {
        "colab": {
          "base_uri": "https://localhost:8080/",
          "height": 583
        },
        "id": "Xx0Yy8jfYN9b",
        "outputId": "23785215-dce3-4387-b83a-5c32b8080db5"
      },
      "execution_count": 50,
      "outputs": [
        {
          "output_type": "stream",
          "name": "stdout",
          "text": [
            "As condições únicas são:\n",
            "['Normal' 'Abnorml' 'Partial' 'AdjLand' 'Alloca' 'Family']\n",
            "\n",
            "A contagem  dos valores é:\n",
            "Normal     1197\n",
            "Partial     125\n",
            "Abnorml     101\n",
            "Family       20\n",
            "Alloca       12\n",
            "AdjLand       4\n",
            "Name: SaleCondition, dtype: int64\n"
          ]
        },
        {
          "output_type": "error",
          "ename": "KeyError",
          "evalue": "ignored",
          "traceback": [
            "\u001b[0;31m---------------------------------------------------------------------------\u001b[0m",
            "\u001b[0;31mKeyError\u001b[0m                                  Traceback (most recent call last)",
            "\u001b[0;32m<ipython-input-50-28ed174e3943>\u001b[0m in \u001b[0;36m<cell line: 12>\u001b[0;34m()\u001b[0m\n\u001b[1;32m     10\u001b[0m \u001b[0;34m\u001b[0m\u001b[0m\n\u001b[1;32m     11\u001b[0m \u001b[0;31m# 6. Agrupar por tipo de condição de venda e calcular a média dos valores de venda\u001b[0m\u001b[0;34m\u001b[0m\u001b[0;34m\u001b[0m\u001b[0m\n\u001b[0;32m---> 12\u001b[0;31m \u001b[0mmedia_valores_venda_por_condicao\u001b[0m \u001b[0;34m=\u001b[0m \u001b[0mdf\u001b[0m\u001b[0;34m.\u001b[0m\u001b[0mgroupby\u001b[0m\u001b[0;34m(\u001b[0m\u001b[0;34m'SaleCondition'\u001b[0m\u001b[0;34m)\u001b[0m\u001b[0;34m[\u001b[0m\u001b[0;34m'SalePrice'\u001b[0m\u001b[0;34m]\u001b[0m\u001b[0;34m.\u001b[0m\u001b[0mmean\u001b[0m\u001b[0;34m(\u001b[0m\u001b[0;34m)\u001b[0m\u001b[0;34m\u001b[0m\u001b[0;34m\u001b[0m\u001b[0m\n\u001b[0m\u001b[1;32m     13\u001b[0m \u001b[0;34m\u001b[0m\u001b[0m\n\u001b[1;32m     14\u001b[0m \u001b[0;31m# 6. Criar gráfico de barras\u001b[0m\u001b[0;34m\u001b[0m\u001b[0;34m\u001b[0m\u001b[0m\n",
            "\u001b[0;32m/usr/local/lib/python3.10/dist-packages/pandas/core/groupby/generic.py\u001b[0m in \u001b[0;36m__getitem__\u001b[0;34m(self, key)\u001b[0m\n\u001b[1;32m   1414\u001b[0m                 \u001b[0mstacklevel\u001b[0m\u001b[0;34m=\u001b[0m\u001b[0mfind_stack_level\u001b[0m\u001b[0;34m(\u001b[0m\u001b[0;34m)\u001b[0m\u001b[0;34m,\u001b[0m\u001b[0;34m\u001b[0m\u001b[0;34m\u001b[0m\u001b[0m\n\u001b[1;32m   1415\u001b[0m             )\n\u001b[0;32m-> 1416\u001b[0;31m         \u001b[0;32mreturn\u001b[0m \u001b[0msuper\u001b[0m\u001b[0;34m(\u001b[0m\u001b[0;34m)\u001b[0m\u001b[0;34m.\u001b[0m\u001b[0m__getitem__\u001b[0m\u001b[0;34m(\u001b[0m\u001b[0mkey\u001b[0m\u001b[0;34m)\u001b[0m\u001b[0;34m\u001b[0m\u001b[0;34m\u001b[0m\u001b[0m\n\u001b[0m\u001b[1;32m   1417\u001b[0m \u001b[0;34m\u001b[0m\u001b[0m\n\u001b[1;32m   1418\u001b[0m     \u001b[0;32mdef\u001b[0m \u001b[0m_gotitem\u001b[0m\u001b[0;34m(\u001b[0m\u001b[0mself\u001b[0m\u001b[0;34m,\u001b[0m \u001b[0mkey\u001b[0m\u001b[0;34m,\u001b[0m \u001b[0mndim\u001b[0m\u001b[0;34m:\u001b[0m \u001b[0mint\u001b[0m\u001b[0;34m,\u001b[0m \u001b[0msubset\u001b[0m\u001b[0;34m=\u001b[0m\u001b[0;32mNone\u001b[0m\u001b[0;34m)\u001b[0m\u001b[0;34m:\u001b[0m\u001b[0;34m\u001b[0m\u001b[0;34m\u001b[0m\u001b[0m\n",
            "\u001b[0;32m/usr/local/lib/python3.10/dist-packages/pandas/core/base.py\u001b[0m in \u001b[0;36m__getitem__\u001b[0;34m(self, key)\u001b[0m\n\u001b[1;32m    246\u001b[0m         \u001b[0;32melse\u001b[0m\u001b[0;34m:\u001b[0m\u001b[0;34m\u001b[0m\u001b[0;34m\u001b[0m\u001b[0m\n\u001b[1;32m    247\u001b[0m             \u001b[0;32mif\u001b[0m \u001b[0mkey\u001b[0m \u001b[0;32mnot\u001b[0m \u001b[0;32min\u001b[0m \u001b[0mself\u001b[0m\u001b[0;34m.\u001b[0m\u001b[0mobj\u001b[0m\u001b[0;34m:\u001b[0m\u001b[0;34m\u001b[0m\u001b[0;34m\u001b[0m\u001b[0m\n\u001b[0;32m--> 248\u001b[0;31m                 \u001b[0;32mraise\u001b[0m \u001b[0mKeyError\u001b[0m\u001b[0;34m(\u001b[0m\u001b[0;34mf\"Column not found: {key}\"\u001b[0m\u001b[0;34m)\u001b[0m\u001b[0;34m\u001b[0m\u001b[0;34m\u001b[0m\u001b[0m\n\u001b[0m\u001b[1;32m    249\u001b[0m             \u001b[0msubset\u001b[0m \u001b[0;34m=\u001b[0m \u001b[0mself\u001b[0m\u001b[0;34m.\u001b[0m\u001b[0mobj\u001b[0m\u001b[0;34m[\u001b[0m\u001b[0mkey\u001b[0m\u001b[0;34m]\u001b[0m\u001b[0;34m\u001b[0m\u001b[0;34m\u001b[0m\u001b[0m\n\u001b[1;32m    250\u001b[0m             \u001b[0mndim\u001b[0m \u001b[0;34m=\u001b[0m \u001b[0msubset\u001b[0m\u001b[0;34m.\u001b[0m\u001b[0mndim\u001b[0m\u001b[0;34m\u001b[0m\u001b[0;34m\u001b[0m\u001b[0m\n",
            "\u001b[0;31mKeyError\u001b[0m: 'Column not found: SalePrice'"
          ]
        }
      ]
    },
    {
      "cell_type": "markdown",
      "source": [
        "  DATA PREPARATION\n",
        "\n",
        "  ## RESOLVENDO DADOS FALTANTES E NULOS\n",
        "\n",
        "  Exercicio 1: Qual colunas tem dados faltantes?\n",
        "  Exercicio 2: Qual a % de dados faltantes nas colunas?"
      ],
      "metadata": {
        "id": "i88Lu-mdJrC-"
      }
    },
    {
      "cell_type": "code",
      "source": [
        "columns_with_missing_data = df.columns[df.isnull().any()]\n",
        "print(\"Colunas com dados faltantes:\", columns_with_missing_data)"
      ],
      "metadata": {
        "colab": {
          "base_uri": "https://localhost:8080/"
        },
        "id": "BiS-EEXDK5HA",
        "outputId": "13534a90-5224-4789-9e79-ed04e9f41632"
      },
      "execution_count": 15,
      "outputs": [
        {
          "output_type": "stream",
          "name": "stdout",
          "text": [
            "Colunas com dados faltantes: Index(['LotFrontage', 'Alley', 'MasVnrType', 'MasVnrArea', 'BsmtQual',\n",
            "       'BsmtCond', 'BsmtExposure', 'BsmtFinType1', 'BsmtFinType2',\n",
            "       'Electrical', 'FireplaceQu', 'GarageType', 'GarageYrBlt',\n",
            "       'GarageFinish', 'GarageQual', 'GarageCond', 'PoolQC', 'Fence',\n",
            "       'MiscFeature'],\n",
            "      dtype='object')\n"
          ]
        }
      ]
    },
    {
      "cell_type": "code",
      "source": [
        "# Calculando a porcentagem de valores faltantes em cada coluna\n",
        "porcentagem_faltantes = (df.isnull().sum() / len(df)) * 100\n",
        "porcentagem_faltantes = porcentagem_faltantes[porcentagem_faltantes > 0].round(2)\n",
        "\n",
        "print(\"Porcentagem de valores faltantes em cada coluna:\")\n",
        "print(porcentagem_faltantes)"
      ],
      "metadata": {
        "colab": {
          "base_uri": "https://localhost:8080/"
        },
        "id": "jIhxT46zMjyt",
        "outputId": "5f14fba8-8135-49b8-ca38-07ddf0fdf933"
      },
      "execution_count": null,
      "outputs": [
        {
          "output_type": "stream",
          "name": "stdout",
          "text": [
            "Porcentagem de valores faltantes em cada coluna:\n",
            "LotFrontage     17.74\n",
            "Alley           93.77\n",
            "MasVnrType       0.55\n",
            "MasVnrArea       0.55\n",
            "BsmtQual         2.53\n",
            "BsmtCond         2.53\n",
            "BsmtExposure     2.60\n",
            "BsmtFinType1     2.53\n",
            "BsmtFinType2     2.60\n",
            "Electrical       0.07\n",
            "FireplaceQu     47.26\n",
            "GarageType       5.55\n",
            "GarageYrBlt      5.55\n",
            "GarageFinish     5.55\n",
            "GarageQual       5.55\n",
            "GarageCond       5.55\n",
            "PoolQC          99.52\n",
            "Fence           80.75\n",
            "MiscFeature     96.30\n",
            "dtype: float64\n"
          ]
        }
      ]
    },
    {
      "cell_type": "code",
      "source": [
        "# outro modo de calcular\n",
        "for i in columns_with_missing_data:\n",
        "  porcentagem = (df[i].isnull().sum()/df.shape[0])*100\n",
        "  print('Coluna:', i, porcentagem)"
      ],
      "metadata": {
        "colab": {
          "base_uri": "https://localhost:8080/"
        },
        "id": "iJBLUj21QkcR",
        "outputId": "e7deb159-bd6c-4d21-c9a4-d073f852ea17"
      },
      "execution_count": null,
      "outputs": [
        {
          "output_type": "stream",
          "name": "stdout",
          "text": [
            "Coluna: LotFrontage 17.73972602739726\n",
            "Coluna: Alley 93.76712328767123\n",
            "Coluna: MasVnrType 0.547945205479452\n",
            "Coluna: MasVnrArea 0.547945205479452\n",
            "Coluna: BsmtQual 2.5342465753424657\n",
            "Coluna: BsmtCond 2.5342465753424657\n",
            "Coluna: BsmtExposure 2.6027397260273974\n",
            "Coluna: BsmtFinType1 2.5342465753424657\n",
            "Coluna: BsmtFinType2 2.6027397260273974\n",
            "Coluna: Electrical 0.0684931506849315\n",
            "Coluna: FireplaceQu 47.26027397260274\n",
            "Coluna: GarageType 5.5479452054794525\n",
            "Coluna: GarageYrBlt 5.5479452054794525\n",
            "Coluna: GarageFinish 5.5479452054794525\n",
            "Coluna: GarageQual 5.5479452054794525\n",
            "Coluna: GarageCond 5.5479452054794525\n",
            "Coluna: PoolQC 99.52054794520548\n",
            "Coluna: Fence 80.75342465753424\n",
            "Coluna: MiscFeature 96.30136986301369\n"
          ]
        }
      ]
    },
    {
      "cell_type": "markdown",
      "source": [
        "Exercicio 3: escolher 4 colunas que tem dados faltantes .\n",
        "\n",
        "Para cada coluna, criar uma hipotese de como lidar com dados faltantes."
      ],
      "metadata": {
        "id": "0XJm9bkPRDF0"
      }
    },
    {
      "cell_type": "markdown",
      "source": [
        "PoolQC -> Nem toda casa tem piscina, logo nem toda casa tem qualidade da piscina. -> COMPLETAR TODAS AS LINHAS COM PoolQC faltando com algum valor que represente 0 ou a falta do dado.\n",
        "\n",
        "Eletrical -> Quantidade de dados faltando é muito baixa, mais fácil deletar TODAS as linhas que Eletrical está Nulo.\n",
        "\n",
        "Alley -> Nem toda casa tem beco ou entrada por um beco -> COMPLETAR TODAS AS LINHAS COM PoolQC faltando com algum valor que represente 0 ou a falta do dado.\n",
        "\n",
        "LotFrontage -> Muitos bairros tem a mesma fachada para todas as casas e tamanhos de frente iguais. COMPLETAR TODAS OS DADOS FALTANTES de LotFrontage com o valor de LotFrontage daquele bairro.\n",
        "\n",
        "Exercicio 5: Executar mudanças nas colunas acima.\n"
      ],
      "metadata": {
        "id": "IuNCW8jQWZ8D"
      }
    },
    {
      "cell_type": "code",
      "source": [
        "# Selecionar as colunas com dados faltantes que você deseja preencher\n",
        "columns_to_fill = ['PoolQC', 'Alley']\n",
        "\n",
        "# Preencher os valores faltantes em cada coluna com 0\n",
        "for column in columns_to_fill:\n",
        "    df[column].fillna(0, inplace=True)"
      ],
      "metadata": {
        "id": "__I1nereZYvF"
      },
      "execution_count": 16,
      "outputs": []
    },
    {
      "cell_type": "code",
      "source": [
        "# Selecionar a coluna da qual você deseja deletar as linhas nulas\n",
        "column_to_drop_nans = 'Electrical'\n",
        "\n",
        "# Deletar as linhas nulas na coluna específica\n",
        "df.dropna(subset=[column_to_drop_nans], inplace=True)"
      ],
      "metadata": {
        "id": "jgfc9298aPh2"
      },
      "execution_count": 17,
      "outputs": []
    },
    {
      "cell_type": "code",
      "source": [
        "# O do LotFrontage substitui pelo valor de LotFrontage do bairro\n",
        "coluna_Lot = df['LotFrontage'] = df.groupby('Neighborhood')['LotFrontage'].transform(lambda x: x.fillna(x.median()))\n",
        "\n",
        "# Verificar se ainda há valores nulos após a remoção\n",
        "print(\"Valores faltantes:\")\n",
        "print(df.isnull().sum())"
      ],
      "metadata": {
        "colab": {
          "base_uri": "https://localhost:8080/"
        },
        "id": "ydJZZoxLa5aA",
        "outputId": "5d78895a-c807-4a99-82c8-afc95f1ca72d"
      },
      "execution_count": 18,
      "outputs": [
        {
          "output_type": "stream",
          "name": "stdout",
          "text": [
            "Valores faltantes:\n",
            "Id               0\n",
            "MSSubClass       0\n",
            "MSZoning         0\n",
            "LotFrontage      0\n",
            "LotArea          0\n",
            "                ..\n",
            "MoSold           0\n",
            "YrSold           0\n",
            "SaleType         0\n",
            "SaleCondition    0\n",
            "SalePrice        0\n",
            "Length: 81, dtype: int64\n"
          ]
        }
      ]
    },
    {
      "cell_type": "code",
      "source": [
        "df['PoolQC'].unique()"
      ],
      "metadata": {
        "colab": {
          "base_uri": "https://localhost:8080/"
        },
        "id": "BEAiUoKeURD2",
        "outputId": "4220c7cb-417c-40f3-9c55-19acb2a8244a"
      },
      "execution_count": 19,
      "outputs": [
        {
          "output_type": "execute_result",
          "data": {
            "text/plain": [
              "array([0, 'Ex', 'Fa', 'Gd'], dtype=object)"
            ]
          },
          "metadata": {},
          "execution_count": 19
        }
      ]
    },
    {
      "cell_type": "code",
      "source": [
        "df['Electrical'].unique()"
      ],
      "metadata": {
        "colab": {
          "base_uri": "https://localhost:8080/"
        },
        "id": "XSYJjvMjVNVS",
        "outputId": "19738c46-202b-48eb-c88d-837803b95729"
      },
      "execution_count": 20,
      "outputs": [
        {
          "output_type": "execute_result",
          "data": {
            "text/plain": [
              "array(['SBrkr', 'FuseF', 'FuseA', 'FuseP', 'Mix'], dtype=object)"
            ]
          },
          "metadata": {},
          "execution_count": 20
        }
      ]
    },
    {
      "cell_type": "code",
      "source": [
        "df['Alley'].unique()"
      ],
      "metadata": {
        "colab": {
          "base_uri": "https://localhost:8080/"
        },
        "id": "ccMmCx7DVWpZ",
        "outputId": "2c8fd3f4-0102-48ca-97da-0e0141444918"
      },
      "execution_count": 21,
      "outputs": [
        {
          "output_type": "execute_result",
          "data": {
            "text/plain": [
              "array([0, 'Grvl', 'Pave'], dtype=object)"
            ]
          },
          "metadata": {},
          "execution_count": 21
        }
      ]
    },
    {
      "cell_type": "code",
      "source": [
        "df['Fence'].unique()"
      ],
      "metadata": {
        "colab": {
          "base_uri": "https://localhost:8080/"
        },
        "id": "IUD08HmDVshX",
        "outputId": "5c1c1a07-d932-41d3-ead9-efbb9b95a25f"
      },
      "execution_count": 22,
      "outputs": [
        {
          "output_type": "execute_result",
          "data": {
            "text/plain": [
              "array([nan, 'MnPrv', 'GdWo', 'GdPrv', 'MnWw'], dtype=object)"
            ]
          },
          "metadata": {},
          "execution_count": 22
        }
      ]
    },
    {
      "cell_type": "markdown",
      "source": [
        "## QUESTOES SUPER IMPORTANTES NA PREPARAÇÃO DOS DADOS\n",
        "\n",
        "1. Dados Numéricos: Problemas com ordem de grandeza nas colunas. Ex: Idade (dezenas) x Salário (milhares) -> NORMALIZAÇÃO/ESCALONAMENTO\n",
        "2. Dados Categoricos: Temos dois tipos de dados categóricos: Com ordem de grandeza (Como cargos de uma empresa) e sem ordem de grandeza (Cidade em que nasceu). No primeiro a gente troca por números mantendo a ordem de grandeza. No segundo aplica ONE HOT ENCODING para transformar dados em colunas e preencher com 1 ou 0.\n",
        "\n",
        "2.a) Para resolver dados categóricos utiliza o método One Hot Encoding. Esse método transforma os dados em colunas\n",
        "\n",
        "ex: a pessoa é de SP? é de osasco? nesse caso 1 é, 0 não é. Neste caso não tem ordem de grandeza (que seria cargos por exemplo: diretor tem uma ordem maior que secretaria)\n",
        "\n",
        "cidade SP / cidade Osasco / Cidade GRU\n",
        "\n",
        "    1     /      0       /     0\n",
        "\n",
        "    0     /      1      /      0\n",
        "\n",
        "\n"
      ],
      "metadata": {
        "id": "VCXHZ-r-OuaS"
      }
    },
    {
      "cell_type": "code",
      "source": [
        "df.select_dtypes(include=int).columns"
      ],
      "metadata": {
        "colab": {
          "base_uri": "https://localhost:8080/"
        },
        "id": "zdlLj-E1POiE",
        "outputId": "26e03d7a-055f-4f5f-fe78-5094bbfb98e1"
      },
      "execution_count": 33,
      "outputs": [
        {
          "output_type": "execute_result",
          "data": {
            "text/plain": [
              "Index(['MSSubClass', 'OverallQual', 'OverallCond', 'YearBuilt', 'YearRemodAdd',\n",
              "       'BsmtFinSF1', 'BsmtFinSF2', 'BsmtUnfSF', 'TotalBsmtSF', '1stFlrSF',\n",
              "       '2ndFlrSF', 'LowQualFinSF', 'GrLivArea', 'BsmtFullBath', 'BsmtHalfBath',\n",
              "       'FullBath', 'HalfBath', 'BedroomAbvGr', 'KitchenAbvGr', 'TotRmsAbvGrd',\n",
              "       'Fireplaces', 'GarageCars', 'GarageArea', 'OpenPorchSF',\n",
              "       'EnclosedPorch', '3SsnPorch', 'ScreenPorch', 'PoolArea', 'MiscVal',\n",
              "       'MoSold', 'YrSold'],\n",
              "      dtype='object')"
            ]
          },
          "metadata": {},
          "execution_count": 33
        }
      ]
    },
    {
      "cell_type": "markdown",
      "source": [
        "### APLICANDO NORMALIZAÇÃO/ESCALONAMENTO NO DADOS NUMEROS\n",
        "Exercicio 11: Aplicar StandardScaler da lib SKLEARN (Scikit-learn) nas colunas númericas do Dataframe"
      ],
      "metadata": {
        "id": "jNI8lRAbThRr"
      }
    },
    {
      "cell_type": "code",
      "source": [
        "# Detectar automaticamente as colunas numericas\n",
        "colunas_numericas = list(df.select_dtypes(include=['float64', 'int64']).columns)"
      ],
      "metadata": {
        "id": "KbKTPqpzaXIz"
      },
      "execution_count": 55,
      "outputs": []
    },
    {
      "cell_type": "code",
      "source": [
        "# Crie uma instância do StandardScaler\n",
        "scaler = StandardScaler()\n",
        "\n",
        "# Ajuste o StandardScaler aos dados\n",
        "df[colunas_numericas] = scaler.fit_transform(df[colunas_numericas])"
      ],
      "metadata": {
        "id": "JIqPGsVIUGRS"
      },
      "execution_count": 57,
      "outputs": []
    },
    {
      "cell_type": "markdown",
      "source": [
        "APLICANDO ONE HOT ENCODING NOS DADOS NUMÉRICOS\n",
        "\n",
        "Exercicio 11: Aplicar One Hot Enconding da lib SKLEARN (ou outra) nas colunas categóricas do Dataframe"
      ],
      "metadata": {
        "id": "jXDPhQW_cMS2"
      }
    },
    {
      "cell_type": "code",
      "source": [
        "# Detectar automaticamente as colunas categóricas com base no tipo de dados\n",
        "categorical_columns = df.select_dtypes(include=['object']).columns\n",
        "\n",
        "# Aplicar One Hot Encoding nas colunas categóricas automaticamente\n",
        "df_encoded = pd.get_dummies(df, columns=categorical_columns)\n",
        "\n",
        "# O DataFrame 'df_encoded' agora contém as variáveis dummy\n",
        "print(df_encoded)"
      ],
      "metadata": {
        "colab": {
          "base_uri": "https://localhost:8080/"
        },
        "id": "S5ueFVBtck2u",
        "outputId": "ddb0488a-f0a2-4fda-f7eb-cbb7b89fe5f1"
      },
      "execution_count": 58,
      "outputs": [
        {
          "output_type": "stream",
          "name": "stdout",
          "text": [
            "      MSSubClass  LotFrontage   LotArea  OverallQual  OverallCond  YearBuilt  \\\n",
            "0       0.073732    -0.231713 -0.207125     0.650852    -0.517424   1.051899   \n",
            "1      -0.871979     0.436981 -0.091909    -0.072372     2.178727   0.157540   \n",
            "2       0.073732    -0.097974  0.073401     0.650852    -0.517424   0.985650   \n",
            "3       0.310159    -0.454611 -0.096918     0.650852    -0.517424  -1.863050   \n",
            "4       0.073732     0.615299  0.374967     1.374077    -0.517424   0.952526   \n",
            "...          ...          ...       ...          ...          ...        ...   \n",
            "1455    0.073732    -0.365452 -0.260525    -0.072372    -0.517424   0.919401   \n",
            "1456   -0.871979     0.659879  0.266263    -0.072372     0.381293   0.223789   \n",
            "1457    0.310159    -0.187134 -0.147814     0.650852     3.077444  -1.001815   \n",
            "1458   -0.871979    -0.097974 -0.080187    -0.795596     0.381293  -0.703695   \n",
            "1459   -0.871979     0.214083 -0.058145    -0.795596     0.381293  -0.206829   \n",
            "\n",
            "      YearRemodAdd  MasVnrArea  BsmtFinSF1  BsmtFinSF2  ...  SaleType_ConLw  \\\n",
            "0         0.879449    0.509503    0.574748   -0.288760  ...               0   \n",
            "1        -0.428864   -0.573097    1.171304   -0.288760  ...               0   \n",
            "2         0.830993    0.321705    0.092239   -0.288760  ...               0   \n",
            "3        -0.719600   -0.573097   -0.499931   -0.288760  ...               0   \n",
            "4         0.734081    1.360116    0.462893   -0.288760  ...               0   \n",
            "...            ...         ...         ...         ...  ...             ...   \n",
            "1455      0.734081   -0.573097   -0.973668   -0.288760  ...               0   \n",
            "1456      0.152608    0.084196    0.758978    0.721688  ...               0   \n",
            "1457      1.024817   -0.573097   -0.370531   -0.288760  ...               0   \n",
            "1458      0.540256   -0.573097   -0.866200    6.090077  ...               0   \n",
            "1459     -0.961880   -0.573097    0.846707    1.508969  ...               0   \n",
            "\n",
            "      SaleType_New  SaleType_Oth  SaleType_WD  SaleCondition_Abnorml  \\\n",
            "0                0             0            1                      0   \n",
            "1                0             0            1                      0   \n",
            "2                0             0            1                      0   \n",
            "3                0             0            1                      1   \n",
            "4                0             0            1                      0   \n",
            "...            ...           ...          ...                    ...   \n",
            "1455             0             0            1                      0   \n",
            "1456             0             0            1                      0   \n",
            "1457             0             0            1                      0   \n",
            "1458             0             0            1                      0   \n",
            "1459             0             0            1                      0   \n",
            "\n",
            "      SaleCondition_AdjLand  SaleCondition_Alloca  SaleCondition_Family  \\\n",
            "0                         0                     0                     0   \n",
            "1                         0                     0                     0   \n",
            "2                         0                     0                     0   \n",
            "3                         0                     0                     0   \n",
            "4                         0                     0                     0   \n",
            "...                     ...                   ...                   ...   \n",
            "1455                      0                     0                     0   \n",
            "1456                      0                     0                     0   \n",
            "1457                      0                     0                     0   \n",
            "1458                      0                     0                     0   \n",
            "1459                      0                     0                     0   \n",
            "\n",
            "      SaleCondition_Normal  SaleCondition_Partial  \n",
            "0                        1                      0  \n",
            "1                        1                      0  \n",
            "2                        1                      0  \n",
            "3                        0                      0  \n",
            "4                        1                      0  \n",
            "...                    ...                    ...  \n",
            "1455                     1                      0  \n",
            "1456                     1                      0  \n",
            "1457                     1                      0  \n",
            "1458                     1                      0  \n",
            "1459                     1                      0  \n",
            "\n",
            "[1459 rows x 290 columns]\n"
          ]
        }
      ]
    },
    {
      "cell_type": "code",
      "source": [
        "df.head()"
      ],
      "metadata": {
        "colab": {
          "base_uri": "https://localhost:8080/",
          "height": 256
        },
        "id": "ETj6Ts_Jemr1",
        "outputId": "36d7c8d0-ecfa-466c-b767-f9e6db151d7d"
      },
      "execution_count": 59,
      "outputs": [
        {
          "output_type": "execute_result",
          "data": {
            "text/plain": [
              "   MSSubClass MSZoning  LotFrontage   LotArea Street Alley LotShape  \\\n",
              "0    0.073732       RL    -0.231713 -0.207125   Pave     0      Reg   \n",
              "1   -0.871979       RL     0.436981 -0.091909   Pave     0      Reg   \n",
              "2    0.073732       RL    -0.097974  0.073401   Pave     0      IR1   \n",
              "3    0.310159       RL    -0.454611 -0.096918   Pave     0      IR1   \n",
              "4    0.073732       RL     0.615299  0.374967   Pave     0      IR1   \n",
              "\n",
              "  LandContour Utilities LotConfig  ... ScreenPorch  PoolArea PoolQC Fence  \\\n",
              "0         Lvl    AllPub    Inside  ...   -0.270308 -0.068715      0   NaN   \n",
              "1         Lvl    AllPub       FR2  ...   -0.270308 -0.068715      0   NaN   \n",
              "2         Lvl    AllPub    Inside  ...   -0.270308 -0.068715      0   NaN   \n",
              "3         Lvl    AllPub    Corner  ...   -0.270308 -0.068715      0   NaN   \n",
              "4         Lvl    AllPub       FR2  ...   -0.270308 -0.068715      0   NaN   \n",
              "\n",
              "  MiscFeature   MiscVal    MoSold    YrSold  SaleType  SaleCondition  \n",
              "0         NaN -0.087718 -1.599030  0.138826        WD         Normal  \n",
              "1         NaN -0.087718 -0.489318 -0.614137        WD         Normal  \n",
              "2         NaN -0.087718  0.990298  0.138826        WD         Normal  \n",
              "3         NaN -0.087718 -1.599030 -1.367100        WD        Abnorml  \n",
              "4         NaN -0.087718  2.100010  0.138826        WD         Normal  \n",
              "\n",
              "[5 rows x 79 columns]"
            ],
            "text/html": [
              "\n",
              "  <div id=\"df-3b7ada12-bfa0-4b6d-875c-8b09c2655451\" class=\"colab-df-container\">\n",
              "    <div>\n",
              "<style scoped>\n",
              "    .dataframe tbody tr th:only-of-type {\n",
              "        vertical-align: middle;\n",
              "    }\n",
              "\n",
              "    .dataframe tbody tr th {\n",
              "        vertical-align: top;\n",
              "    }\n",
              "\n",
              "    .dataframe thead th {\n",
              "        text-align: right;\n",
              "    }\n",
              "</style>\n",
              "<table border=\"1\" class=\"dataframe\">\n",
              "  <thead>\n",
              "    <tr style=\"text-align: right;\">\n",
              "      <th></th>\n",
              "      <th>MSSubClass</th>\n",
              "      <th>MSZoning</th>\n",
              "      <th>LotFrontage</th>\n",
              "      <th>LotArea</th>\n",
              "      <th>Street</th>\n",
              "      <th>Alley</th>\n",
              "      <th>LotShape</th>\n",
              "      <th>LandContour</th>\n",
              "      <th>Utilities</th>\n",
              "      <th>LotConfig</th>\n",
              "      <th>...</th>\n",
              "      <th>ScreenPorch</th>\n",
              "      <th>PoolArea</th>\n",
              "      <th>PoolQC</th>\n",
              "      <th>Fence</th>\n",
              "      <th>MiscFeature</th>\n",
              "      <th>MiscVal</th>\n",
              "      <th>MoSold</th>\n",
              "      <th>YrSold</th>\n",
              "      <th>SaleType</th>\n",
              "      <th>SaleCondition</th>\n",
              "    </tr>\n",
              "  </thead>\n",
              "  <tbody>\n",
              "    <tr>\n",
              "      <th>0</th>\n",
              "      <td>0.073732</td>\n",
              "      <td>RL</td>\n",
              "      <td>-0.231713</td>\n",
              "      <td>-0.207125</td>\n",
              "      <td>Pave</td>\n",
              "      <td>0</td>\n",
              "      <td>Reg</td>\n",
              "      <td>Lvl</td>\n",
              "      <td>AllPub</td>\n",
              "      <td>Inside</td>\n",
              "      <td>...</td>\n",
              "      <td>-0.270308</td>\n",
              "      <td>-0.068715</td>\n",
              "      <td>0</td>\n",
              "      <td>NaN</td>\n",
              "      <td>NaN</td>\n",
              "      <td>-0.087718</td>\n",
              "      <td>-1.599030</td>\n",
              "      <td>0.138826</td>\n",
              "      <td>WD</td>\n",
              "      <td>Normal</td>\n",
              "    </tr>\n",
              "    <tr>\n",
              "      <th>1</th>\n",
              "      <td>-0.871979</td>\n",
              "      <td>RL</td>\n",
              "      <td>0.436981</td>\n",
              "      <td>-0.091909</td>\n",
              "      <td>Pave</td>\n",
              "      <td>0</td>\n",
              "      <td>Reg</td>\n",
              "      <td>Lvl</td>\n",
              "      <td>AllPub</td>\n",
              "      <td>FR2</td>\n",
              "      <td>...</td>\n",
              "      <td>-0.270308</td>\n",
              "      <td>-0.068715</td>\n",
              "      <td>0</td>\n",
              "      <td>NaN</td>\n",
              "      <td>NaN</td>\n",
              "      <td>-0.087718</td>\n",
              "      <td>-0.489318</td>\n",
              "      <td>-0.614137</td>\n",
              "      <td>WD</td>\n",
              "      <td>Normal</td>\n",
              "    </tr>\n",
              "    <tr>\n",
              "      <th>2</th>\n",
              "      <td>0.073732</td>\n",
              "      <td>RL</td>\n",
              "      <td>-0.097974</td>\n",
              "      <td>0.073401</td>\n",
              "      <td>Pave</td>\n",
              "      <td>0</td>\n",
              "      <td>IR1</td>\n",
              "      <td>Lvl</td>\n",
              "      <td>AllPub</td>\n",
              "      <td>Inside</td>\n",
              "      <td>...</td>\n",
              "      <td>-0.270308</td>\n",
              "      <td>-0.068715</td>\n",
              "      <td>0</td>\n",
              "      <td>NaN</td>\n",
              "      <td>NaN</td>\n",
              "      <td>-0.087718</td>\n",
              "      <td>0.990298</td>\n",
              "      <td>0.138826</td>\n",
              "      <td>WD</td>\n",
              "      <td>Normal</td>\n",
              "    </tr>\n",
              "    <tr>\n",
              "      <th>3</th>\n",
              "      <td>0.310159</td>\n",
              "      <td>RL</td>\n",
              "      <td>-0.454611</td>\n",
              "      <td>-0.096918</td>\n",
              "      <td>Pave</td>\n",
              "      <td>0</td>\n",
              "      <td>IR1</td>\n",
              "      <td>Lvl</td>\n",
              "      <td>AllPub</td>\n",
              "      <td>Corner</td>\n",
              "      <td>...</td>\n",
              "      <td>-0.270308</td>\n",
              "      <td>-0.068715</td>\n",
              "      <td>0</td>\n",
              "      <td>NaN</td>\n",
              "      <td>NaN</td>\n",
              "      <td>-0.087718</td>\n",
              "      <td>-1.599030</td>\n",
              "      <td>-1.367100</td>\n",
              "      <td>WD</td>\n",
              "      <td>Abnorml</td>\n",
              "    </tr>\n",
              "    <tr>\n",
              "      <th>4</th>\n",
              "      <td>0.073732</td>\n",
              "      <td>RL</td>\n",
              "      <td>0.615299</td>\n",
              "      <td>0.374967</td>\n",
              "      <td>Pave</td>\n",
              "      <td>0</td>\n",
              "      <td>IR1</td>\n",
              "      <td>Lvl</td>\n",
              "      <td>AllPub</td>\n",
              "      <td>FR2</td>\n",
              "      <td>...</td>\n",
              "      <td>-0.270308</td>\n",
              "      <td>-0.068715</td>\n",
              "      <td>0</td>\n",
              "      <td>NaN</td>\n",
              "      <td>NaN</td>\n",
              "      <td>-0.087718</td>\n",
              "      <td>2.100010</td>\n",
              "      <td>0.138826</td>\n",
              "      <td>WD</td>\n",
              "      <td>Normal</td>\n",
              "    </tr>\n",
              "  </tbody>\n",
              "</table>\n",
              "<p>5 rows × 79 columns</p>\n",
              "</div>\n",
              "    <div class=\"colab-df-buttons\">\n",
              "\n",
              "  <div class=\"colab-df-container\">\n",
              "    <button class=\"colab-df-convert\" onclick=\"convertToInteractive('df-3b7ada12-bfa0-4b6d-875c-8b09c2655451')\"\n",
              "            title=\"Convert this dataframe to an interactive table.\"\n",
              "            style=\"display:none;\">\n",
              "\n",
              "  <svg xmlns=\"http://www.w3.org/2000/svg\" height=\"24px\" viewBox=\"0 -960 960 960\">\n",
              "    <path d=\"M120-120v-720h720v720H120Zm60-500h600v-160H180v160Zm220 220h160v-160H400v160Zm0 220h160v-160H400v160ZM180-400h160v-160H180v160Zm440 0h160v-160H620v160ZM180-180h160v-160H180v160Zm440 0h160v-160H620v160Z\"/>\n",
              "  </svg>\n",
              "    </button>\n",
              "\n",
              "  <style>\n",
              "    .colab-df-container {\n",
              "      display:flex;\n",
              "      gap: 12px;\n",
              "    }\n",
              "\n",
              "    .colab-df-convert {\n",
              "      background-color: #E8F0FE;\n",
              "      border: none;\n",
              "      border-radius: 50%;\n",
              "      cursor: pointer;\n",
              "      display: none;\n",
              "      fill: #1967D2;\n",
              "      height: 32px;\n",
              "      padding: 0 0 0 0;\n",
              "      width: 32px;\n",
              "    }\n",
              "\n",
              "    .colab-df-convert:hover {\n",
              "      background-color: #E2EBFA;\n",
              "      box-shadow: 0px 1px 2px rgba(60, 64, 67, 0.3), 0px 1px 3px 1px rgba(60, 64, 67, 0.15);\n",
              "      fill: #174EA6;\n",
              "    }\n",
              "\n",
              "    .colab-df-buttons div {\n",
              "      margin-bottom: 4px;\n",
              "    }\n",
              "\n",
              "    [theme=dark] .colab-df-convert {\n",
              "      background-color: #3B4455;\n",
              "      fill: #D2E3FC;\n",
              "    }\n",
              "\n",
              "    [theme=dark] .colab-df-convert:hover {\n",
              "      background-color: #434B5C;\n",
              "      box-shadow: 0px 1px 3px 1px rgba(0, 0, 0, 0.15);\n",
              "      filter: drop-shadow(0px 1px 2px rgba(0, 0, 0, 0.3));\n",
              "      fill: #FFFFFF;\n",
              "    }\n",
              "  </style>\n",
              "\n",
              "    <script>\n",
              "      const buttonEl =\n",
              "        document.querySelector('#df-3b7ada12-bfa0-4b6d-875c-8b09c2655451 button.colab-df-convert');\n",
              "      buttonEl.style.display =\n",
              "        google.colab.kernel.accessAllowed ? 'block' : 'none';\n",
              "\n",
              "      async function convertToInteractive(key) {\n",
              "        const element = document.querySelector('#df-3b7ada12-bfa0-4b6d-875c-8b09c2655451');\n",
              "        const dataTable =\n",
              "          await google.colab.kernel.invokeFunction('convertToInteractive',\n",
              "                                                    [key], {});\n",
              "        if (!dataTable) return;\n",
              "\n",
              "        const docLinkHtml = 'Like what you see? Visit the ' +\n",
              "          '<a target=\"_blank\" href=https://colab.research.google.com/notebooks/data_table.ipynb>data table notebook</a>'\n",
              "          + ' to learn more about interactive tables.';\n",
              "        element.innerHTML = '';\n",
              "        dataTable['output_type'] = 'display_data';\n",
              "        await google.colab.output.renderOutput(dataTable, element);\n",
              "        const docLink = document.createElement('div');\n",
              "        docLink.innerHTML = docLinkHtml;\n",
              "        element.appendChild(docLink);\n",
              "      }\n",
              "    </script>\n",
              "  </div>\n",
              "\n",
              "\n",
              "<div id=\"df-d80ff3ba-7b63-4932-b3fe-32b7596cdc72\">\n",
              "  <button class=\"colab-df-quickchart\" onclick=\"quickchart('df-d80ff3ba-7b63-4932-b3fe-32b7596cdc72')\"\n",
              "            title=\"Suggest charts.\"\n",
              "            style=\"display:none;\">\n",
              "\n",
              "<svg xmlns=\"http://www.w3.org/2000/svg\" height=\"24px\"viewBox=\"0 0 24 24\"\n",
              "     width=\"24px\">\n",
              "    <g>\n",
              "        <path d=\"M19 3H5c-1.1 0-2 .9-2 2v14c0 1.1.9 2 2 2h14c1.1 0 2-.9 2-2V5c0-1.1-.9-2-2-2zM9 17H7v-7h2v7zm4 0h-2V7h2v10zm4 0h-2v-4h2v4z\"/>\n",
              "    </g>\n",
              "</svg>\n",
              "  </button>\n",
              "\n",
              "<style>\n",
              "  .colab-df-quickchart {\n",
              "      --bg-color: #E8F0FE;\n",
              "      --fill-color: #1967D2;\n",
              "      --hover-bg-color: #E2EBFA;\n",
              "      --hover-fill-color: #174EA6;\n",
              "      --disabled-fill-color: #AAA;\n",
              "      --disabled-bg-color: #DDD;\n",
              "  }\n",
              "\n",
              "  [theme=dark] .colab-df-quickchart {\n",
              "      --bg-color: #3B4455;\n",
              "      --fill-color: #D2E3FC;\n",
              "      --hover-bg-color: #434B5C;\n",
              "      --hover-fill-color: #FFFFFF;\n",
              "      --disabled-bg-color: #3B4455;\n",
              "      --disabled-fill-color: #666;\n",
              "  }\n",
              "\n",
              "  .colab-df-quickchart {\n",
              "    background-color: var(--bg-color);\n",
              "    border: none;\n",
              "    border-radius: 50%;\n",
              "    cursor: pointer;\n",
              "    display: none;\n",
              "    fill: var(--fill-color);\n",
              "    height: 32px;\n",
              "    padding: 0;\n",
              "    width: 32px;\n",
              "  }\n",
              "\n",
              "  .colab-df-quickchart:hover {\n",
              "    background-color: var(--hover-bg-color);\n",
              "    box-shadow: 0 1px 2px rgba(60, 64, 67, 0.3), 0 1px 3px 1px rgba(60, 64, 67, 0.15);\n",
              "    fill: var(--button-hover-fill-color);\n",
              "  }\n",
              "\n",
              "  .colab-df-quickchart-complete:disabled,\n",
              "  .colab-df-quickchart-complete:disabled:hover {\n",
              "    background-color: var(--disabled-bg-color);\n",
              "    fill: var(--disabled-fill-color);\n",
              "    box-shadow: none;\n",
              "  }\n",
              "\n",
              "  .colab-df-spinner {\n",
              "    border: 2px solid var(--fill-color);\n",
              "    border-color: transparent;\n",
              "    border-bottom-color: var(--fill-color);\n",
              "    animation:\n",
              "      spin 1s steps(1) infinite;\n",
              "  }\n",
              "\n",
              "  @keyframes spin {\n",
              "    0% {\n",
              "      border-color: transparent;\n",
              "      border-bottom-color: var(--fill-color);\n",
              "      border-left-color: var(--fill-color);\n",
              "    }\n",
              "    20% {\n",
              "      border-color: transparent;\n",
              "      border-left-color: var(--fill-color);\n",
              "      border-top-color: var(--fill-color);\n",
              "    }\n",
              "    30% {\n",
              "      border-color: transparent;\n",
              "      border-left-color: var(--fill-color);\n",
              "      border-top-color: var(--fill-color);\n",
              "      border-right-color: var(--fill-color);\n",
              "    }\n",
              "    40% {\n",
              "      border-color: transparent;\n",
              "      border-right-color: var(--fill-color);\n",
              "      border-top-color: var(--fill-color);\n",
              "    }\n",
              "    60% {\n",
              "      border-color: transparent;\n",
              "      border-right-color: var(--fill-color);\n",
              "    }\n",
              "    80% {\n",
              "      border-color: transparent;\n",
              "      border-right-color: var(--fill-color);\n",
              "      border-bottom-color: var(--fill-color);\n",
              "    }\n",
              "    90% {\n",
              "      border-color: transparent;\n",
              "      border-bottom-color: var(--fill-color);\n",
              "    }\n",
              "  }\n",
              "</style>\n",
              "\n",
              "  <script>\n",
              "    async function quickchart(key) {\n",
              "      const quickchartButtonEl =\n",
              "        document.querySelector('#' + key + ' button');\n",
              "      quickchartButtonEl.disabled = true;  // To prevent multiple clicks.\n",
              "      quickchartButtonEl.classList.add('colab-df-spinner');\n",
              "      try {\n",
              "        const charts = await google.colab.kernel.invokeFunction(\n",
              "            'suggestCharts', [key], {});\n",
              "      } catch (error) {\n",
              "        console.error('Error during call to suggestCharts:', error);\n",
              "      }\n",
              "      quickchartButtonEl.classList.remove('colab-df-spinner');\n",
              "      quickchartButtonEl.classList.add('colab-df-quickchart-complete');\n",
              "    }\n",
              "    (() => {\n",
              "      let quickchartButtonEl =\n",
              "        document.querySelector('#df-d80ff3ba-7b63-4932-b3fe-32b7596cdc72 button');\n",
              "      quickchartButtonEl.style.display =\n",
              "        google.colab.kernel.accessAllowed ? 'block' : 'none';\n",
              "    })();\n",
              "  </script>\n",
              "</div>\n",
              "    </div>\n",
              "  </div>\n"
            ]
          },
          "metadata": {},
          "execution_count": 59
        }
      ]
    }
  ]
}