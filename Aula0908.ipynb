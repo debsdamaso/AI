{
  "nbformat": 4,
  "nbformat_minor": 0,
  "metadata": {
    "colab": {
      "provenance": [],
      "authorship_tag": "ABX9TyP5rUC3c4zHIknkihTchO7t",
      "include_colab_link": true
    },
    "kernelspec": {
      "name": "python3",
      "display_name": "Python 3"
    },
    "language_info": {
      "name": "python"
    }
  },
  "cells": [
    {
      "cell_type": "markdown",
      "metadata": {
        "id": "view-in-github",
        "colab_type": "text"
      },
      "source": [
        "<a href=\"https://colab.research.google.com/github/debsdamaso/AI/blob/main/Aula0908.ipynb\" target=\"_parent\"><img src=\"https://colab.research.google.com/assets/colab-badge.svg\" alt=\"Open In Colab\"/></a>"
      ]
    },
    {
      "cell_type": "code",
      "execution_count": 9,
      "metadata": {
        "id": "952PdMQSHhRX"
      },
      "outputs": [],
      "source": [
        "import pandas as pd\n",
        "import numpy as np\n",
        "import statistics as sts"
      ]
    },
    {
      "cell_type": "markdown",
      "source": [
        "Calcular médias: aritmetrica, ponderada, harmonica e mediana\n",
        "\n",
        "http://www.bosontreinamentos.com.br/programacao-em-python/medidas-de-tendencia-central-media-moda-e-mediana-em-python/#:~:text=M%C3%A9dia%20Harm%C3%B4nica%20em%20Python,aumenta%2C%20o%20tempo%20relacionado%20diminui.\n"
      ],
      "metadata": {
        "id": "ytQlZybQL8XM"
      }
    },
    {
      "cell_type": "code",
      "source": [
        "x = [10, 9, 5, 6, 4, 2, 6, 5]\n",
        "\n",
        "print(x)"
      ],
      "metadata": {
        "colab": {
          "base_uri": "https://localhost:8080/"
        },
        "id": "jxRz1sXKHthY",
        "outputId": "a9bdeca0-35dd-4f71-eaf6-b68235ee4db3"
      },
      "execution_count": 2,
      "outputs": [
        {
          "output_type": "stream",
          "name": "stdout",
          "text": [
            "[10, 9, 5, 6, 4, 2, 6, 5]\n"
          ]
        }
      ]
    },
    {
      "cell_type": "code",
      "source": [
        "media = sum(x)/len(x)\n",
        "print(\"Media:\", media)"
      ],
      "metadata": {
        "colab": {
          "base_uri": "https://localhost:8080/"
        },
        "id": "5oTOH9_fMLuo",
        "outputId": "bc7e8ba7-7d7c-4c96-b0b0-1430dc5f2f2c"
      },
      "execution_count": 3,
      "outputs": [
        {
          "output_type": "stream",
          "name": "stdout",
          "text": [
            "Media: 5.875\n"
          ]
        }
      ]
    },
    {
      "cell_type": "code",
      "source": [
        "mediana = sts.median(x)\n",
        "print(\"Mediana:\", mediana)"
      ],
      "metadata": {
        "colab": {
          "base_uri": "https://localhost:8080/"
        },
        "id": "AHyz-j9KN1vZ",
        "outputId": "84cf06e7-621d-4b3d-b912-3398e953ae90"
      },
      "execution_count": 10,
      "outputs": [
        {
          "output_type": "stream",
          "name": "stdout",
          "text": [
            "Mediana: 5.5\n"
          ]
        }
      ]
    },
    {
      "cell_type": "code",
      "source": [
        "moda = sts.mode(x)\n",
        "print(\"Moda:\", moda)"
      ],
      "metadata": {
        "colab": {
          "base_uri": "https://localhost:8080/"
        },
        "id": "vfXC48D8OaaV",
        "outputId": "7cb08600-9466-477c-9539-f7e8d4013db5"
      },
      "execution_count": 11,
      "outputs": [
        {
          "output_type": "stream",
          "name": "stdout",
          "text": [
            "Moda: 5\n"
          ]
        }
      ]
    },
    {
      "cell_type": "code",
      "source": [
        "variancia = sts.variance(x)\n",
        "print(\"Variancia:\", variancia)"
      ],
      "metadata": {
        "colab": {
          "base_uri": "https://localhost:8080/"
        },
        "id": "CL4dkEQDR2my",
        "outputId": "41e3e016-1270-48ff-ba72-116b3e08a9b1"
      },
      "execution_count": 12,
      "outputs": [
        {
          "output_type": "stream",
          "name": "stdout",
          "text": [
            "Variancia: 6.696428571428571\n"
          ]
        }
      ]
    },
    {
      "cell_type": "markdown",
      "source": [
        "Faça funções em Python em células do Jupyter Notebook para calcular a:\n",
        "\n",
        "a) variância amostral\n",
        "\n",
        "b) variância populacional\n",
        "\n",
        "c) desvio padrão amostral\n",
        "\n",
        "d) desvio padrão populacional\n",
        "\n",
        "e) incerteza da média\n",
        "\n",
        "Cada função deve receber apenas o vetor/lista de dados numéricos.\n",
        "\n",
        "Use como entrada x = [39, 38, 27, 22 , 20 ,17 ,10, 10, 10, 10, 7, 7, 7, 7, 6]"
      ],
      "metadata": {
        "id": "cqE3cmu1TPlc"
      }
    },
    {
      "cell_type": "code",
      "source": [
        "y = [39, 38, 27, 22, 20, 17, 10, 10, 10, 10, 7, 7, 7, 7, 6]\n",
        "\n",
        "variancia = sts.variance(y)\n",
        "print(\"Variancia:\", variancia)\n",
        "\n",
        "# Population Variance\n",
        "population_variance = pd.Series(y).var(ddof=0)\n",
        "print(\"Population Variance:\", population_variance)\n",
        "\n",
        "# Sample Standard Deviation\n",
        "sample_std_deviation = pd.Series(y).std()\n",
        "print(\"Sample Standard Deviation:\", sample_std_deviation)\n",
        "\n",
        "# Population Standard Deviation\n",
        "population_std_deviation = pd.Series(y).std(ddof=0)\n",
        "print(\"Population Standard Deviation:\", population_std_deviation)\n",
        "\n",
        "# Uncertainty of the Mean\n",
        "uncertainty_of_mean = sts.stdev(y) / pd.Series(y).count()**0.5\n",
        "print(\"Uncertainty of the Mean:\", uncertainty_of_mean)"
      ],
      "metadata": {
        "id": "V7odHfFTTXzk",
        "colab": {
          "base_uri": "https://localhost:8080/"
        },
        "outputId": "3e1b3177-36d1-4a6e-a5d5-70a24daefebf"
      },
      "execution_count": 17,
      "outputs": [
        {
          "output_type": "stream",
          "name": "stdout",
          "text": [
            "Variancia: 125.31428571428572\n",
            "Population Variance: 116.96000000000001\n",
            "Sample Standard Deviation: 11.194386348267855\n",
            "Population Standard Deviation: 10.81480466767662\n",
            "Uncertainty of the Mean: 2.8903781265235375\n"
          ]
        }
      ]
    },
    {
      "cell_type": "markdown",
      "source": [],
      "metadata": {
        "id": "bU0TI5zQnJRP"
      }
    }
  ]
}