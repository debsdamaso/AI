{
  "nbformat": 4,
  "nbformat_minor": 0,
  "metadata": {
    "colab": {
      "provenance": [],
      "mount_file_id": "1q1MWfvVFuh40wdWLXHtp-NurhyuLo7IX",
      "authorship_tag": "ABX9TyOFZeMjJHaHPrWkmy4X5SwS",
      "include_colab_link": true
    },
    "kernelspec": {
      "name": "python3",
      "display_name": "Python 3"
    },
    "language_info": {
      "name": "python"
    }
  },
  "cells": [
    {
      "cell_type": "markdown",
      "metadata": {
        "id": "view-in-github",
        "colab_type": "text"
      },
      "source": [
        "<a href=\"https://colab.research.google.com/github/debsdamaso/AI/blob/main/Copy_of_EstudodeCaso.ipynb\" target=\"_parent\"><img src=\"https://colab.research.google.com/assets/colab-badge.svg\" alt=\"Open In Colab\"/></a>"
      ]
    },
    {
      "cell_type": "markdown",
      "source": [
        "O objetivo de negócio: um modelo preditivo capaz de estimar o preço final de casas residenciais em Ames, Iowa, com base em um conjunto de 79 variáveis explicativas. O texto sugere que o preço de venda de uma casa não é influenciado apenas pelo número de quartos ou características básicas como uma cerca branca, mas por uma ampla gama de fatores que descrevem praticamente todos os aspectos das residências.\n",
        "\n",
        "O desafio proposto: construir um modelo estatístico ou algorítmico que possa capturar a complexidade das relações entre essas 79 variáveis explicativas e o preço final das casas.\n",
        "\n",
        "Isso poderia ser útil para diversas finalidades, tais como:\n",
        "\n",
        "Mercado Imobiliário: Compreender melhor os fatores que afetam os preços das casas pode ajudar corretores imobiliários, construtores e investidores a tomar decisões mais informadas sobre precificação, investimento e estratégias de marketing.\n",
        "\n",
        "Compradores e Vendedores: Tanto compradores quanto vendedores podem se beneficiar de uma estimativa mais precisa do preço final de uma casa. Compradores podem fazer escolhas mais embasadas, e vendedores podem ajustar suas expectativas e estratégias de venda.\n",
        "\n",
        "Avaliação de Risco: Instituições financeiras e empresas de seguros podem usar esse tipo de modelo para avaliar riscos associados a empréstimos hipotecários, planejamento financeiro e gestão de portfólio.\n",
        "\n",
        "Desenvolvimento Urbano: Planejadores urbanos e governos locais podem usar esses modelos para entender melhor como diferentes variáveis afetam os preços das casas e, assim, tomar decisões mais informadas sobre zoneamento, desenvolvimento de infraestrutura e políticas habitacionais.\n",
        "\n",
        "Pesquisa de Mercado: Empresas que atuam no setor imobiliário podem usar esses modelos para obter insights sobre as preferências dos compradores e as características mais valorizadas em um imóvel.\n",
        "\n",
        "No geral, o objetivo é usar a análise de dados e técnicas de modelagem para compreender e quantificar o impacto das várias variáveis explicativas no preço das casas, permitindo uma melhor tomada de decisão e uma compreensão mais profunda do mercado imobiliário em Ames, Iowa."
      ],
      "metadata": {
        "id": "qZ1kE7V9N9N-"
      }
    },
    {
      "cell_type": "code",
      "execution_count": null,
      "metadata": {
        "id": "IbAqoSzXLz-O"
      },
      "outputs": [],
      "source": [
        "import pandas as pd\n",
        "import matplotlib.pyplot as plt\n",
        "import seaborn as sns"
      ]
    },
    {
      "cell_type": "code",
      "source": [
        "df = pd.read_csv('/content/drive/MyDrive/Colab Notebooks/train.csv')"
      ],
      "metadata": {
        "id": "Okd2n46mMUsh"
      },
      "execution_count": null,
      "outputs": []
    },
    {
      "cell_type": "code",
      "source": [
        "df.head()"
      ],
      "metadata": {
        "colab": {
          "base_uri": "https://localhost:8080/",
          "height": 256
        },
        "id": "dMy_TOE3OF6Q",
        "outputId": "743eba0e-e66e-4b03-c835-6ef7547f1075"
      },
      "execution_count": null,
      "outputs": [
        {
          "output_type": "execute_result",
          "data": {
            "text/plain": [
              "   Id  MSSubClass MSZoning  LotFrontage  LotArea Street Alley LotShape  \\\n",
              "0   1          60       RL         65.0     8450   Pave   NaN      Reg   \n",
              "1   2          20       RL         80.0     9600   Pave   NaN      Reg   \n",
              "2   3          60       RL         68.0    11250   Pave   NaN      IR1   \n",
              "3   4          70       RL         60.0     9550   Pave   NaN      IR1   \n",
              "4   5          60       RL         84.0    14260   Pave   NaN      IR1   \n",
              "\n",
              "  LandContour Utilities  ... PoolArea PoolQC Fence MiscFeature MiscVal MoSold  \\\n",
              "0         Lvl    AllPub  ...        0    NaN   NaN         NaN       0      2   \n",
              "1         Lvl    AllPub  ...        0    NaN   NaN         NaN       0      5   \n",
              "2         Lvl    AllPub  ...        0    NaN   NaN         NaN       0      9   \n",
              "3         Lvl    AllPub  ...        0    NaN   NaN         NaN       0      2   \n",
              "4         Lvl    AllPub  ...        0    NaN   NaN         NaN       0     12   \n",
              "\n",
              "  YrSold  SaleType  SaleCondition  SalePrice  \n",
              "0   2008        WD         Normal     208500  \n",
              "1   2007        WD         Normal     181500  \n",
              "2   2008        WD         Normal     223500  \n",
              "3   2006        WD        Abnorml     140000  \n",
              "4   2008        WD         Normal     250000  \n",
              "\n",
              "[5 rows x 81 columns]"
            ],
            "text/html": [
              "\n",
              "  <div id=\"df-7969d15d-ca05-4368-b299-cb9161e5cb4d\" class=\"colab-df-container\">\n",
              "    <div>\n",
              "<style scoped>\n",
              "    .dataframe tbody tr th:only-of-type {\n",
              "        vertical-align: middle;\n",
              "    }\n",
              "\n",
              "    .dataframe tbody tr th {\n",
              "        vertical-align: top;\n",
              "    }\n",
              "\n",
              "    .dataframe thead th {\n",
              "        text-align: right;\n",
              "    }\n",
              "</style>\n",
              "<table border=\"1\" class=\"dataframe\">\n",
              "  <thead>\n",
              "    <tr style=\"text-align: right;\">\n",
              "      <th></th>\n",
              "      <th>Id</th>\n",
              "      <th>MSSubClass</th>\n",
              "      <th>MSZoning</th>\n",
              "      <th>LotFrontage</th>\n",
              "      <th>LotArea</th>\n",
              "      <th>Street</th>\n",
              "      <th>Alley</th>\n",
              "      <th>LotShape</th>\n",
              "      <th>LandContour</th>\n",
              "      <th>Utilities</th>\n",
              "      <th>...</th>\n",
              "      <th>PoolArea</th>\n",
              "      <th>PoolQC</th>\n",
              "      <th>Fence</th>\n",
              "      <th>MiscFeature</th>\n",
              "      <th>MiscVal</th>\n",
              "      <th>MoSold</th>\n",
              "      <th>YrSold</th>\n",
              "      <th>SaleType</th>\n",
              "      <th>SaleCondition</th>\n",
              "      <th>SalePrice</th>\n",
              "    </tr>\n",
              "  </thead>\n",
              "  <tbody>\n",
              "    <tr>\n",
              "      <th>0</th>\n",
              "      <td>1</td>\n",
              "      <td>60</td>\n",
              "      <td>RL</td>\n",
              "      <td>65.0</td>\n",
              "      <td>8450</td>\n",
              "      <td>Pave</td>\n",
              "      <td>NaN</td>\n",
              "      <td>Reg</td>\n",
              "      <td>Lvl</td>\n",
              "      <td>AllPub</td>\n",
              "      <td>...</td>\n",
              "      <td>0</td>\n",
              "      <td>NaN</td>\n",
              "      <td>NaN</td>\n",
              "      <td>NaN</td>\n",
              "      <td>0</td>\n",
              "      <td>2</td>\n",
              "      <td>2008</td>\n",
              "      <td>WD</td>\n",
              "      <td>Normal</td>\n",
              "      <td>208500</td>\n",
              "    </tr>\n",
              "    <tr>\n",
              "      <th>1</th>\n",
              "      <td>2</td>\n",
              "      <td>20</td>\n",
              "      <td>RL</td>\n",
              "      <td>80.0</td>\n",
              "      <td>9600</td>\n",
              "      <td>Pave</td>\n",
              "      <td>NaN</td>\n",
              "      <td>Reg</td>\n",
              "      <td>Lvl</td>\n",
              "      <td>AllPub</td>\n",
              "      <td>...</td>\n",
              "      <td>0</td>\n",
              "      <td>NaN</td>\n",
              "      <td>NaN</td>\n",
              "      <td>NaN</td>\n",
              "      <td>0</td>\n",
              "      <td>5</td>\n",
              "      <td>2007</td>\n",
              "      <td>WD</td>\n",
              "      <td>Normal</td>\n",
              "      <td>181500</td>\n",
              "    </tr>\n",
              "    <tr>\n",
              "      <th>2</th>\n",
              "      <td>3</td>\n",
              "      <td>60</td>\n",
              "      <td>RL</td>\n",
              "      <td>68.0</td>\n",
              "      <td>11250</td>\n",
              "      <td>Pave</td>\n",
              "      <td>NaN</td>\n",
              "      <td>IR1</td>\n",
              "      <td>Lvl</td>\n",
              "      <td>AllPub</td>\n",
              "      <td>...</td>\n",
              "      <td>0</td>\n",
              "      <td>NaN</td>\n",
              "      <td>NaN</td>\n",
              "      <td>NaN</td>\n",
              "      <td>0</td>\n",
              "      <td>9</td>\n",
              "      <td>2008</td>\n",
              "      <td>WD</td>\n",
              "      <td>Normal</td>\n",
              "      <td>223500</td>\n",
              "    </tr>\n",
              "    <tr>\n",
              "      <th>3</th>\n",
              "      <td>4</td>\n",
              "      <td>70</td>\n",
              "      <td>RL</td>\n",
              "      <td>60.0</td>\n",
              "      <td>9550</td>\n",
              "      <td>Pave</td>\n",
              "      <td>NaN</td>\n",
              "      <td>IR1</td>\n",
              "      <td>Lvl</td>\n",
              "      <td>AllPub</td>\n",
              "      <td>...</td>\n",
              "      <td>0</td>\n",
              "      <td>NaN</td>\n",
              "      <td>NaN</td>\n",
              "      <td>NaN</td>\n",
              "      <td>0</td>\n",
              "      <td>2</td>\n",
              "      <td>2006</td>\n",
              "      <td>WD</td>\n",
              "      <td>Abnorml</td>\n",
              "      <td>140000</td>\n",
              "    </tr>\n",
              "    <tr>\n",
              "      <th>4</th>\n",
              "      <td>5</td>\n",
              "      <td>60</td>\n",
              "      <td>RL</td>\n",
              "      <td>84.0</td>\n",
              "      <td>14260</td>\n",
              "      <td>Pave</td>\n",
              "      <td>NaN</td>\n",
              "      <td>IR1</td>\n",
              "      <td>Lvl</td>\n",
              "      <td>AllPub</td>\n",
              "      <td>...</td>\n",
              "      <td>0</td>\n",
              "      <td>NaN</td>\n",
              "      <td>NaN</td>\n",
              "      <td>NaN</td>\n",
              "      <td>0</td>\n",
              "      <td>12</td>\n",
              "      <td>2008</td>\n",
              "      <td>WD</td>\n",
              "      <td>Normal</td>\n",
              "      <td>250000</td>\n",
              "    </tr>\n",
              "  </tbody>\n",
              "</table>\n",
              "<p>5 rows × 81 columns</p>\n",
              "</div>\n",
              "    <div class=\"colab-df-buttons\">\n",
              "\n",
              "  <div class=\"colab-df-container\">\n",
              "    <button class=\"colab-df-convert\" onclick=\"convertToInteractive('df-7969d15d-ca05-4368-b299-cb9161e5cb4d')\"\n",
              "            title=\"Convert this dataframe to an interactive table.\"\n",
              "            style=\"display:none;\">\n",
              "\n",
              "  <svg xmlns=\"http://www.w3.org/2000/svg\" height=\"24px\" viewBox=\"0 -960 960 960\">\n",
              "    <path d=\"M120-120v-720h720v720H120Zm60-500h600v-160H180v160Zm220 220h160v-160H400v160Zm0 220h160v-160H400v160ZM180-400h160v-160H180v160Zm440 0h160v-160H620v160ZM180-180h160v-160H180v160Zm440 0h160v-160H620v160Z\"/>\n",
              "  </svg>\n",
              "    </button>\n",
              "\n",
              "  <style>\n",
              "    .colab-df-container {\n",
              "      display:flex;\n",
              "      gap: 12px;\n",
              "    }\n",
              "\n",
              "    .colab-df-convert {\n",
              "      background-color: #E8F0FE;\n",
              "      border: none;\n",
              "      border-radius: 50%;\n",
              "      cursor: pointer;\n",
              "      display: none;\n",
              "      fill: #1967D2;\n",
              "      height: 32px;\n",
              "      padding: 0 0 0 0;\n",
              "      width: 32px;\n",
              "    }\n",
              "\n",
              "    .colab-df-convert:hover {\n",
              "      background-color: #E2EBFA;\n",
              "      box-shadow: 0px 1px 2px rgba(60, 64, 67, 0.3), 0px 1px 3px 1px rgba(60, 64, 67, 0.15);\n",
              "      fill: #174EA6;\n",
              "    }\n",
              "\n",
              "    .colab-df-buttons div {\n",
              "      margin-bottom: 4px;\n",
              "    }\n",
              "\n",
              "    [theme=dark] .colab-df-convert {\n",
              "      background-color: #3B4455;\n",
              "      fill: #D2E3FC;\n",
              "    }\n",
              "\n",
              "    [theme=dark] .colab-df-convert:hover {\n",
              "      background-color: #434B5C;\n",
              "      box-shadow: 0px 1px 3px 1px rgba(0, 0, 0, 0.15);\n",
              "      filter: drop-shadow(0px 1px 2px rgba(0, 0, 0, 0.3));\n",
              "      fill: #FFFFFF;\n",
              "    }\n",
              "  </style>\n",
              "\n",
              "    <script>\n",
              "      const buttonEl =\n",
              "        document.querySelector('#df-7969d15d-ca05-4368-b299-cb9161e5cb4d button.colab-df-convert');\n",
              "      buttonEl.style.display =\n",
              "        google.colab.kernel.accessAllowed ? 'block' : 'none';\n",
              "\n",
              "      async function convertToInteractive(key) {\n",
              "        const element = document.querySelector('#df-7969d15d-ca05-4368-b299-cb9161e5cb4d');\n",
              "        const dataTable =\n",
              "          await google.colab.kernel.invokeFunction('convertToInteractive',\n",
              "                                                    [key], {});\n",
              "        if (!dataTable) return;\n",
              "\n",
              "        const docLinkHtml = 'Like what you see? Visit the ' +\n",
              "          '<a target=\"_blank\" href=https://colab.research.google.com/notebooks/data_table.ipynb>data table notebook</a>'\n",
              "          + ' to learn more about interactive tables.';\n",
              "        element.innerHTML = '';\n",
              "        dataTable['output_type'] = 'display_data';\n",
              "        await google.colab.output.renderOutput(dataTable, element);\n",
              "        const docLink = document.createElement('div');\n",
              "        docLink.innerHTML = docLinkHtml;\n",
              "        element.appendChild(docLink);\n",
              "      }\n",
              "    </script>\n",
              "  </div>\n",
              "\n",
              "\n",
              "<div id=\"df-35914b5e-5800-49ae-9d4f-ff91e3aeb0ac\">\n",
              "  <button class=\"colab-df-quickchart\" onclick=\"quickchart('df-35914b5e-5800-49ae-9d4f-ff91e3aeb0ac')\"\n",
              "            title=\"Suggest charts.\"\n",
              "            style=\"display:none;\">\n",
              "\n",
              "<svg xmlns=\"http://www.w3.org/2000/svg\" height=\"24px\"viewBox=\"0 0 24 24\"\n",
              "     width=\"24px\">\n",
              "    <g>\n",
              "        <path d=\"M19 3H5c-1.1 0-2 .9-2 2v14c0 1.1.9 2 2 2h14c1.1 0 2-.9 2-2V5c0-1.1-.9-2-2-2zM9 17H7v-7h2v7zm4 0h-2V7h2v10zm4 0h-2v-4h2v4z\"/>\n",
              "    </g>\n",
              "</svg>\n",
              "  </button>\n",
              "\n",
              "<style>\n",
              "  .colab-df-quickchart {\n",
              "    background-color: #E8F0FE;\n",
              "    border: none;\n",
              "    border-radius: 50%;\n",
              "    cursor: pointer;\n",
              "    display: none;\n",
              "    fill: #1967D2;\n",
              "    height: 32px;\n",
              "    padding: 0 0 0 0;\n",
              "    width: 32px;\n",
              "  }\n",
              "\n",
              "  .colab-df-quickchart:hover {\n",
              "    background-color: #E2EBFA;\n",
              "    box-shadow: 0px 1px 2px rgba(60, 64, 67, 0.3), 0px 1px 3px 1px rgba(60, 64, 67, 0.15);\n",
              "    fill: #174EA6;\n",
              "  }\n",
              "\n",
              "  [theme=dark] .colab-df-quickchart {\n",
              "    background-color: #3B4455;\n",
              "    fill: #D2E3FC;\n",
              "  }\n",
              "\n",
              "  [theme=dark] .colab-df-quickchart:hover {\n",
              "    background-color: #434B5C;\n",
              "    box-shadow: 0px 1px 3px 1px rgba(0, 0, 0, 0.15);\n",
              "    filter: drop-shadow(0px 1px 2px rgba(0, 0, 0, 0.3));\n",
              "    fill: #FFFFFF;\n",
              "  }\n",
              "</style>\n",
              "\n",
              "  <script>\n",
              "    async function quickchart(key) {\n",
              "      const charts = await google.colab.kernel.invokeFunction(\n",
              "          'suggestCharts', [key], {});\n",
              "    }\n",
              "    (() => {\n",
              "      let quickchartButtonEl =\n",
              "        document.querySelector('#df-35914b5e-5800-49ae-9d4f-ff91e3aeb0ac button');\n",
              "      quickchartButtonEl.style.display =\n",
              "        google.colab.kernel.accessAllowed ? 'block' : 'none';\n",
              "    })();\n",
              "  </script>\n",
              "</div>\n",
              "    </div>\n",
              "  </div>\n"
            ]
          },
          "metadata": {},
          "execution_count": 21
        }
      ]
    },
    {
      "cell_type": "markdown",
      "source": [
        "##Exercicio 1:\n",
        "\n",
        "Escolher uma coluna numérica, entender a descrição dela\n",
        "\n",
        "Calcular média, median"
      ],
      "metadata": {
        "id": "002VPiI_O1eH"
      }
    },
    {
      "cell_type": "code",
      "source": [
        "media_LotArea = df['LotArea'].mean()\n",
        "print(f'A média da coluna é: {media_LotArea}')\n",
        "median_LotArea = df['LotArea'].median()\n",
        "print(f'A mediana da coluna é: {median_LotArea}')"
      ],
      "metadata": {
        "colab": {
          "base_uri": "https://localhost:8080/"
        },
        "id": "DeNrVBc6Pf_K",
        "outputId": "00520528-1882-484d-dcd7-9da5af659b8a"
      },
      "execution_count": null,
      "outputs": [
        {
          "output_type": "stream",
          "name": "stdout",
          "text": [
            "A média da coluna é: 10516.828082191782\n",
            "A mediana da coluna é: 9478.5\n"
          ]
        }
      ]
    },
    {
      "cell_type": "markdown",
      "source": [
        "##Exercicio 2\n",
        "\n",
        "Escolher uma coluna categorica e entender a descrição dela\n",
        "\n",
        "Construir um histograma com o PANDAS\n"
      ],
      "metadata": {
        "id": "u6dVbkmEPRom"
      }
    },
    {
      "cell_type": "code",
      "source": [
        "df.describe(include=object)\n",
        "\n",
        "df['LotArea'].hist(bins=10)  # 'bins' define o número de barras no histograma, pode deixar () se quiser\n",
        "plt.ylabel('Tamanho da area')\n",
        "plt.title('Histograma da Coluna LotArea')\n",
        "plt.show()"
      ],
      "metadata": {
        "colab": {
          "base_uri": "https://localhost:8080/",
          "height": 452
        },
        "id": "vfrVnM04PeXD",
        "outputId": "55e961dc-06ce-4992-f30c-29c570c27805"
      },
      "execution_count": null,
      "outputs": [
        {
          "output_type": "display_data",
          "data": {
            "text/plain": [
              "<Figure size 640x480 with 1 Axes>"
            ],
            "image/png": "[encoded data removed]"
          },
          "metadata": {}
        }
      ]
    },
    {
      "cell_type": "code",
      "source": [
        "df['GarageType'].hist()"
      ],
      "metadata": {
        "id": "qEv3w0yeXGIj",
        "outputId": "0039c75e-72c4-4829-ee79-11319ae209ec",
        "colab": {
          "base_uri": "https://localhost:8080/",
          "height": 447
        }
      },
      "execution_count": null,
      "outputs": [
        {
          "output_type": "execute_result",
          "data": {
            "text/plain": [
              "<Axes: >"
            ]
          },
          "metadata": {},
          "execution_count": 24
        },
        {
          "output_type": "display_data",
          "data": {
            "text/plain": [
              "<Figure size 640x480 with 1 Axes>"
            ],
            "image/png": "[encoded data removed]"
          },
          "metadata": {}
        }
      ]
    },
    {
      "cell_type": "markdown",
      "source": [
        "## PERGUNTAS IMPORTANTES DO DATA UNDERSTANDING\n",
        "\n",
        "1. Existem dados nulos ou faltantes no Dataset, conjunto de dados?\n",
        "2. Quais os tipos de dados existem no Dataset?\n",
        "Exemplo Coluna ID -> Int, Coluna Street -> Object\n",
        "3. Existe alguma coluna que está com o tipo de dado errado?"
      ],
      "metadata": {
        "id": "JIVPyPcbPAsb"
      }
    },
    {
      "cell_type": "code",
      "source": [
        "# 1. Dados nulos\n",
        "# Quando você chama a função .isnull() em um DataFrame do Pandas,\n",
        "# ela retorna uma matriz booleana em que cada célula é True se o valor for nulo (NaN)\n",
        "# e False se o valor não for nulo.\n",
        "valores_nulos = df.isnull()\n",
        "print(valores_nulos)"
      ],
      "metadata": {
        "colab": {
          "base_uri": "https://localhost:8080/"
        },
        "id": "w2G0esjdQCSd",
        "outputId": "d2fc01af-91d4-46ba-d462-40bea36eeb93"
      },
      "execution_count": null,
      "outputs": [
        {
          "output_type": "stream",
          "name": "stdout",
          "text": [
            "         Id  MSSubClass  MSZoning  LotFrontage  LotArea  Street  Alley  \\\n",
            "0     False       False     False        False    False   False   True   \n",
            "1     False       False     False        False    False   False   True   \n",
            "2     False       False     False        False    False   False   True   \n",
            "3     False       False     False        False    False   False   True   \n",
            "4     False       False     False        False    False   False   True   \n",
            "...     ...         ...       ...          ...      ...     ...    ...   \n",
            "1455  False       False     False        False    False   False   True   \n",
            "1456  False       False     False        False    False   False   True   \n",
            "1457  False       False     False        False    False   False   True   \n",
            "1458  False       False     False        False    False   False   True   \n",
            "1459  False       False     False        False    False   False   True   \n",
            "\n",
            "      LotShape  LandContour  Utilities  ...  PoolArea  PoolQC  Fence  \\\n",
            "0        False        False      False  ...     False    True   True   \n",
            "1        False        False      False  ...     False    True   True   \n",
            "2        False        False      False  ...     False    True   True   \n",
            "3        False        False      False  ...     False    True   True   \n",
            "4        False        False      False  ...     False    True   True   \n",
            "...        ...          ...        ...  ...       ...     ...    ...   \n",
            "1455     False        False      False  ...     False    True   True   \n",
            "1456     False        False      False  ...     False    True  False   \n",
            "1457     False        False      False  ...     False    True  False   \n",
            "1458     False        False      False  ...     False    True   True   \n",
            "1459     False        False      False  ...     False    True   True   \n",
            "\n",
            "      MiscFeature  MiscVal  MoSold  YrSold  SaleType  SaleCondition  SalePrice  \n",
            "0            True    False   False   False     False          False      False  \n",
            "1            True    False   False   False     False          False      False  \n",
            "2            True    False   False   False     False          False      False  \n",
            "3            True    False   False   False     False          False      False  \n",
            "4            True    False   False   False     False          False      False  \n",
            "...           ...      ...     ...     ...       ...            ...        ...  \n",
            "1455         True    False   False   False     False          False      False  \n",
            "1456         True    False   False   False     False          False      False  \n",
            "1457        False    False   False   False     False          False      False  \n",
            "1458         True    False   False   False     False          False      False  \n",
            "1459         True    False   False   False     False          False      False  \n",
            "\n",
            "[1460 rows x 81 columns]\n"
          ]
        }
      ]
    },
    {
      "cell_type": "code",
      "source": [
        "# 2. Tipos de dados:\n",
        "tipos_de_dados = df.dtypes\n",
        "print(tipos_de_dados)"
      ],
      "metadata": {
        "colab": {
          "base_uri": "https://localhost:8080/"
        },
        "id": "NUJTRwXUS-Gu",
        "outputId": "0cf0f15c-ca8b-4472-fc10-25fd741c2c1e"
      },
      "execution_count": null,
      "outputs": [
        {
          "output_type": "stream",
          "name": "stdout",
          "text": [
            "Id                 int64\n",
            "MSSubClass         int64\n",
            "MSZoning          object\n",
            "LotFrontage      float64\n",
            "LotArea            int64\n",
            "                  ...   \n",
            "MoSold             int64\n",
            "YrSold             int64\n",
            "SaleType          object\n",
            "SaleCondition     object\n",
            "SalePrice          int64\n",
            "Length: 81, dtype: object\n"
          ]
        }
      ]
    },
    {
      "cell_type": "code",
      "source": [
        "# 3. Existem dados errados?\n",
        "\n",
        "# Resposta: apenas o ID, no qual não faz sentido ser int, mas seria string ou object"
      ],
      "metadata": {
        "id": "jsga815gTZt1"
      },
      "execution_count": null,
      "outputs": []
    },
    {
      "cell_type": "markdown",
      "source": [
        "PERGUNTAS IMPORTANTES DO DATA UNDERSTANDING\n",
        "\n",
        "4. Quais os tipos únicos de vendas que existem?\n",
        "5. Quais os tipo únicos de condições de venda?\n",
        "6. Qual o tipo de condição de venda que tem maior valor de venda das casas?"
      ],
      "metadata": {
        "id": "ShrgVwarWHG8"
      }
    },
    {
      "cell_type": "code",
      "source": [
        "# 4. Tipos unicos de vendas\n",
        "valores_unicos = df['SaleType'].unique()\n",
        "print(\"Os valores unicos são:\")\n",
        "print(valores_unicos)\n",
        "\n",
        "# contagem\n",
        "contagem_tipos_de_venda = df['SaleType'].value_counts()\n",
        "print(\"\\nA contagem  dos valores é:\")\n",
        "print(contagem_tipos_de_venda)"
      ],
      "metadata": {
        "colab": {
          "base_uri": "https://localhost:8080/"
        },
        "id": "TqQBEV8UXLmB",
        "outputId": "0dd00f68-21c0-4f51-a559-7a4c1723a73c"
      },
      "execution_count": null,
      "outputs": [
        {
          "output_type": "stream",
          "name": "stdout",
          "text": [
            "Os valores unicos são:\n",
            "['WD' 'New' 'COD' 'ConLD' 'ConLI' 'CWD' 'ConLw' 'Con' 'Oth']\n",
            "\n",
            "A contagem  dos valores é:\n",
            "WD       1267\n",
            "New       122\n",
            "COD        43\n",
            "ConLD       9\n",
            "ConLI       5\n",
            "ConLw       5\n",
            "CWD         4\n",
            "Oth         3\n",
            "Con         2\n",
            "Name: SaleType, dtype: int64\n"
          ]
        }
      ]
    },
    {
      "cell_type": "code",
      "source": [
        "# 5. Tipos unicos de condições de vendas\n",
        "condicoes_vendas = df['SaleCondition'].unique()\n",
        "print(\"As condições únicas são:\")\n",
        "print(condicoes_vendas)\n",
        "\n",
        "# contagem\n",
        "contagem_condicoes = df['SaleCondition'].value_counts()\n",
        "print(\"\\nA contagem  dos valores é:\")\n",
        "print(contagem_condicoes)\n",
        "\n",
        "# 6. Agrupar por tipo de condição de venda e calcular a média dos valores de venda\n",
        "media_valores_venda_por_condicao = df.groupby('SaleCondition')['SalePrice'].mean()\n",
        "\n",
        "# 6. Criar gráfico de barras\n",
        "plt.figure(figsize=(8, 4))\n",
        "sns.barplot(x=media_valores_venda_por_condicao.index, y=media_valores_venda_por_condicao)\n",
        "plt.xticks(rotation=45)\n",
        "plt.xlabel('Tipo de Condição de Venda')\n",
        "plt.ylabel('Média de Valor de Venda')\n",
        "plt.title('Média de Valor de Venda por Tipo de Condição de Venda')\n",
        "plt.show()\n"
      ],
      "metadata": {
        "colab": {
          "base_uri": "https://localhost:8080/",
          "height": 639
        },
        "id": "Xx0Yy8jfYN9b",
        "outputId": "c87dfe9d-e85f-422f-de34-c2e8ecb4764c"
      },
      "execution_count": null,
      "outputs": [
        {
          "output_type": "stream",
          "name": "stdout",
          "text": [
            "As condições únicas são:\n",
            "['Normal' 'Abnorml' 'Partial' 'AdjLand' 'Alloca' 'Family']\n",
            "\n",
            "A contagem  dos valores é:\n",
            "Normal     1198\n",
            "Partial     125\n",
            "Abnorml     101\n",
            "Family       20\n",
            "Alloca       12\n",
            "AdjLand       4\n",
            "Name: SaleCondition, dtype: int64\n"
          ]
        },
        {
          "output_type": "display_data",
          "data": {
            "text/plain": [
              "<Figure size 800x400 with 1 Axes>"
            ],
            "image/png": "[encoded data removed]"
          },
          "metadata": {}
        }
      ]
    },
    {
      "cell_type": "markdown",
      "source": [
        "  DATA PREPARATION\n",
        "\n",
        "  ## RESOLVENDO DADOS FALTANTES E NULOS\n",
        "\n",
        "  Exercicio 1: Qual colunas tem dados faltantes?\n",
        "  Exercicio 2: Qual a % de dados faltantes nas colunas?"
      ],
      "metadata": {
        "id": "i88Lu-mdJrC-"
      }
    },
    {
      "cell_type": "code",
      "source": [
        "columns_with_missing_data = df.columns[df.isnull().any()]\n",
        "print(\"Colunas com dados faltantes:\", columns_with_missing_data)"
      ],
      "metadata": {
        "colab": {
          "base_uri": "https://localhost:8080/"
        },
        "id": "BiS-EEXDK5HA",
        "outputId": "6212b507-1648-4829-d9b8-3acfa5d4e90b"
      },
      "execution_count": null,
      "outputs": [
        {
          "output_type": "stream",
          "name": "stdout",
          "text": [
            "Colunas com dados faltantes: Index(['LotFrontage', 'Alley', 'MasVnrType', 'MasVnrArea', 'BsmtQual',\n",
            "       'BsmtCond', 'BsmtExposure', 'BsmtFinType1', 'BsmtFinType2',\n",
            "       'Electrical', 'FireplaceQu', 'GarageType', 'GarageYrBlt',\n",
            "       'GarageFinish', 'GarageQual', 'GarageCond', 'PoolQC', 'Fence',\n",
            "       'MiscFeature'],\n",
            "      dtype='object')\n"
          ]
        }
      ]
    },
    {
      "cell_type": "code",
      "source": [
        "# Calculando a porcentagem de valores faltantes em cada coluna\n",
        "porcentagem_faltantes = (df.isnull().sum() / len(df)) * 100\n",
        "porcentagem_faltantes = porcentagem_faltantes[porcentagem_faltantes > 0].round(2)\n",
        "\n",
        "print(\"Porcentagem de valores faltantes em cada coluna:\")\n",
        "print(porcentagem_faltantes)"
      ],
      "metadata": {
        "colab": {
          "base_uri": "https://localhost:8080/"
        },
        "id": "jIhxT46zMjyt",
        "outputId": "5f14fba8-8135-49b8-ca38-07ddf0fdf933"
      },
      "execution_count": null,
      "outputs": [
        {
          "output_type": "stream",
          "name": "stdout",
          "text": [
            "Porcentagem de valores faltantes em cada coluna:\n",
            "LotFrontage     17.74\n",
            "Alley           93.77\n",
            "MasVnrType       0.55\n",
            "MasVnrArea       0.55\n",
            "BsmtQual         2.53\n",
            "BsmtCond         2.53\n",
            "BsmtExposure     2.60\n",
            "BsmtFinType1     2.53\n",
            "BsmtFinType2     2.60\n",
            "Electrical       0.07\n",
            "FireplaceQu     47.26\n",
            "GarageType       5.55\n",
            "GarageYrBlt      5.55\n",
            "GarageFinish     5.55\n",
            "GarageQual       5.55\n",
            "GarageCond       5.55\n",
            "PoolQC          99.52\n",
            "Fence           80.75\n",
            "MiscFeature     96.30\n",
            "dtype: float64\n"
          ]
        }
      ]
    },
    {
      "cell_type": "code",
      "source": [
        "# outro modo de calcular\n",
        "for i in columns_with_missing_data:\n",
        "  porcentagem = (df[i].isnull().sum()/df.shape[0])*100\n",
        "  print('Coluna:', i, porcentagem)"
      ],
      "metadata": {
        "colab": {
          "base_uri": "https://localhost:8080/"
        },
        "id": "iJBLUj21QkcR",
        "outputId": "e7deb159-bd6c-4d21-c9a4-d073f852ea17"
      },
      "execution_count": null,
      "outputs": [
        {
          "output_type": "stream",
          "name": "stdout",
          "text": [
            "Coluna: LotFrontage 17.73972602739726\n",
            "Coluna: Alley 93.76712328767123\n",
            "Coluna: MasVnrType 0.547945205479452\n",
            "Coluna: MasVnrArea 0.547945205479452\n",
            "Coluna: BsmtQual 2.5342465753424657\n",
            "Coluna: BsmtCond 2.5342465753424657\n",
            "Coluna: BsmtExposure 2.6027397260273974\n",
            "Coluna: BsmtFinType1 2.5342465753424657\n",
            "Coluna: BsmtFinType2 2.6027397260273974\n",
            "Coluna: Electrical 0.0684931506849315\n",
            "Coluna: FireplaceQu 47.26027397260274\n",
            "Coluna: GarageType 5.5479452054794525\n",
            "Coluna: GarageYrBlt 5.5479452054794525\n",
            "Coluna: GarageFinish 5.5479452054794525\n",
            "Coluna: GarageQual 5.5479452054794525\n",
            "Coluna: GarageCond 5.5479452054794525\n",
            "Coluna: PoolQC 99.52054794520548\n",
            "Coluna: Fence 80.75342465753424\n",
            "Coluna: MiscFeature 96.30136986301369\n"
          ]
        }
      ]
    },
    {
      "cell_type": "markdown",
      "source": [
        "Exercicio 3: escolher 4 colunas que tem dados faltantes .\n",
        "\n",
        "Para cada coluna, criar uma hipotese de como lidar com dados faltantes."
      ],
      "metadata": {
        "id": "0XJm9bkPRDF0"
      }
    },
    {
      "cell_type": "markdown",
      "source": [
        "PoolQC -> Nem toda casa tem piscina, logo nem toda casa tem qualidade da piscina. -> COMPLETAR TODAS AS LINHAS COM PoolQC faltando com algum valor que represente 0 ou a falta do dado.\n",
        "\n",
        "Eletrical -> Quantidade de dados faltando é muito baixa, mais fácil deletar TODAS as linhas que Eletrical está Nulo.\n",
        "\n",
        "Alley -> Nem toda casa tem beco ou entrada por um beco -> COMPLETAR TODAS AS LINHAS COM PoolQC faltando com algum valor que represente 0 ou a falta do dado.\n",
        "\n",
        "LotFrontage -> Muitos bairros tem a mesma fachada para todas as casas e tamanhos de frente iguais. COMPLETAR TODAS OS DADOS FALTANTES de LotFrontage com o valor de LotFrontage daquele bairro.\n",
        "\n",
        "Exercicio 5: Executar mudanças nas colunas acima.\n"
      ],
      "metadata": {
        "id": "IuNCW8jQWZ8D"
      }
    },
    {
      "cell_type": "code",
      "source": [
        "# Selecionar as colunas com dados faltantes que você deseja preencher\n",
        "columns_to_fill = ['PoolQC', 'Alley']\n",
        "\n",
        "# Preencher os valores faltantes em cada coluna com 0\n",
        "for column in columns_to_fill:\n",
        "    df[column].fillna(0, inplace=True)"
      ],
      "metadata": {
        "id": "__I1nereZYvF"
      },
      "execution_count": null,
      "outputs": []
    },
    {
      "cell_type": "code",
      "source": [
        "# Selecionar a coluna da qual você deseja deletar as linhas nulas\n",
        "column_to_drop_nans = 'Electrical'\n",
        "\n",
        "# Deletar as linhas nulas na coluna específica\n",
        "df.dropna(subset=[column_to_drop_nans], inplace=True)"
      ],
      "metadata": {
        "id": "jgfc9298aPh2"
      },
      "execution_count": null,
      "outputs": []
    },
    {
      "cell_type": "code",
      "source": [
        "# O do LotFrontage substitui pelo valor de LotFrontage do bairro\n",
        "coluna_Lot = df['LotFrontage'] = df.groupby('Neighborhood')['LotFrontage'].transform(lambda x: x.fillna(x.median()))\n",
        "\n",
        "# Verificar se ainda há valores nulos após a remoção\n",
        "print(\"Valores faltantes:\")\n",
        "print(df.isnull().sum())"
      ],
      "metadata": {
        "colab": {
          "base_uri": "https://localhost:8080/"
        },
        "id": "ydJZZoxLa5aA",
        "outputId": "0ea4d373-c69d-4a4d-c890-5f8c90c0db71"
      },
      "execution_count": null,
      "outputs": [
        {
          "output_type": "stream",
          "name": "stdout",
          "text": [
            "Valores faltantes:\n",
            "Id               0\n",
            "MSSubClass       0\n",
            "MSZoning         0\n",
            "LotFrontage      0\n",
            "LotArea          0\n",
            "                ..\n",
            "MoSold           0\n",
            "YrSold           0\n",
            "SaleType         0\n",
            "SaleCondition    0\n",
            "SalePrice        0\n",
            "Length: 81, dtype: int64\n"
          ]
        }
      ]
    },
    {
      "cell_type": "code",
      "source": [
        "df['PoolQC'].unique()"
      ],
      "metadata": {
        "colab": {
          "base_uri": "https://localhost:8080/"
        },
        "id": "BEAiUoKeURD2",
        "outputId": "cf287e7f-2f78-41d7-ae3b-a108b66ae48e"
      },
      "execution_count": null,
      "outputs": [
        {
          "output_type": "execute_result",
          "data": {
            "text/plain": [
              "array([nan, 'Ex', 'Fa', 'Gd'], dtype=object)"
            ]
          },
          "metadata": {},
          "execution_count": 41
        }
      ]
    },
    {
      "cell_type": "code",
      "source": [
        "df['Electrical'].unique()"
      ],
      "metadata": {
        "colab": {
          "base_uri": "https://localhost:8080/"
        },
        "id": "XSYJjvMjVNVS",
        "outputId": "e1480d76-09dd-403c-e702-4776c3927a42"
      },
      "execution_count": null,
      "outputs": [
        {
          "output_type": "execute_result",
          "data": {
            "text/plain": [
              "array(['SBrkr', 'FuseF', 'FuseA', 'FuseP', 'Mix', nan], dtype=object)"
            ]
          },
          "metadata": {},
          "execution_count": 42
        }
      ]
    },
    {
      "cell_type": "markdown",
      "source": [],
      "metadata": {
        "id": "vFHnyCkLXAyo"
      }
    },
    {
      "cell_type": "code",
      "source": [
        "df['Alley'].unique()"
      ],
      "metadata": {
        "colab": {
          "base_uri": "https://localhost:8080/"
        },
        "id": "ccMmCx7DVWpZ",
        "outputId": "e990463c-57e5-4fa2-adc1-673ed8050e4f"
      },
      "execution_count": null,
      "outputs": [
        {
          "output_type": "execute_result",
          "data": {
            "text/plain": [
              "array([nan, 'Grvl', 'Pave'], dtype=object)"
            ]
          },
          "metadata": {},
          "execution_count": 43
        }
      ]
    },
    {
      "cell_type": "code",
      "source": [
        "df['Fence'].unique()"
      ],
      "metadata": {
        "colab": {
          "base_uri": "https://localhost:8080/"
        },
        "id": "IUD08HmDVshX",
        "outputId": "6dd37c4d-5a7e-49f6-9828-89c67ce943e8"
      },
      "execution_count": null,
      "outputs": [
        {
          "output_type": "execute_result",
          "data": {
            "text/plain": [
              "array([nan, 'MnPrv', 'GdWo', 'GdPrv', 'MnWw'], dtype=object)"
            ]
          },
          "metadata": {},
          "execution_count": 44
        }
      ]
    }
  ]
}